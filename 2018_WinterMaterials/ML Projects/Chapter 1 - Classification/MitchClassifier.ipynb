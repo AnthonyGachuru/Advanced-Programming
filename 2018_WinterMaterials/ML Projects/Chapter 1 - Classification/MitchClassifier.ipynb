{
 "cells": [
  {
   "cell_type": "markdown",
   "metadata": {},
   "source": [
    "Mitch's example of something we would expect to receive from our students"
   ]
  },
  {
   "cell_type": "code",
   "execution_count": 1,
   "metadata": {
    "collapsed": true
   },
   "outputs": [],
   "source": [
    "import pandas as pd\n",
    "import numpy as np\n",
    "from collections import Counter\n",
    "from matplotlib import pyplot as plt\n",
    "from sklearn.model_selection import train_test_split\n",
    "from sklearn.metrics import classification_report\n",
    "from sklearn.ensemble import RandomForestClassifier\n",
    "\n",
    "plt.style.use(\"ggplot\")\n",
    "%matplotlib inline"
   ]
  },
  {
   "cell_type": "code",
   "execution_count": 2,
   "metadata": {
    "collapsed": true
   },
   "outputs": [],
   "source": [
    "mush_data = pd.read_csv('mushrooms.csv', dtype=\"category\")\n",
    "# We can drop every column that is unique, since it will not affect classification\n",
    "mush_data = mush_data.drop(mush_data.columns[mush_data.describe().loc['unique'] == 1], axis=1)"
   ]
  },
  {
   "cell_type": "code",
   "execution_count": 3,
   "metadata": {},
   "outputs": [
    {
     "data": {
      "text/html": [
       "<div>\n",
       "<style>\n",
       "    .dataframe thead tr:only-child th {\n",
       "        text-align: right;\n",
       "    }\n",
       "\n",
       "    .dataframe thead th {\n",
       "        text-align: left;\n",
       "    }\n",
       "\n",
       "    .dataframe tbody tr th {\n",
       "        vertical-align: top;\n",
       "    }\n",
       "</style>\n",
       "<table border=\"1\" class=\"dataframe\">\n",
       "  <thead>\n",
       "    <tr style=\"text-align: right;\">\n",
       "      <th></th>\n",
       "      <th>class</th>\n",
       "      <th>cap-shape</th>\n",
       "      <th>cap-surface</th>\n",
       "      <th>cap-color</th>\n",
       "      <th>bruises</th>\n",
       "      <th>odor</th>\n",
       "      <th>gill-attachment</th>\n",
       "      <th>gill-spacing</th>\n",
       "      <th>gill-size</th>\n",
       "      <th>gill-color</th>\n",
       "      <th>...</th>\n",
       "      <th>stalk-surface-above-ring</th>\n",
       "      <th>stalk-surface-below-ring</th>\n",
       "      <th>stalk-color-above-ring</th>\n",
       "      <th>stalk-color-below-ring</th>\n",
       "      <th>veil-color</th>\n",
       "      <th>ring-number</th>\n",
       "      <th>ring-type</th>\n",
       "      <th>spore-print-color</th>\n",
       "      <th>population</th>\n",
       "      <th>habitat</th>\n",
       "    </tr>\n",
       "  </thead>\n",
       "  <tbody>\n",
       "    <tr>\n",
       "      <th>count</th>\n",
       "      <td>8124</td>\n",
       "      <td>8124</td>\n",
       "      <td>8124</td>\n",
       "      <td>8124</td>\n",
       "      <td>8124</td>\n",
       "      <td>8124</td>\n",
       "      <td>8124</td>\n",
       "      <td>8124</td>\n",
       "      <td>8124</td>\n",
       "      <td>8124</td>\n",
       "      <td>...</td>\n",
       "      <td>8124</td>\n",
       "      <td>8124</td>\n",
       "      <td>8124</td>\n",
       "      <td>8124</td>\n",
       "      <td>8124</td>\n",
       "      <td>8124</td>\n",
       "      <td>8124</td>\n",
       "      <td>8124</td>\n",
       "      <td>8124</td>\n",
       "      <td>8124</td>\n",
       "    </tr>\n",
       "    <tr>\n",
       "      <th>unique</th>\n",
       "      <td>2</td>\n",
       "      <td>6</td>\n",
       "      <td>4</td>\n",
       "      <td>10</td>\n",
       "      <td>2</td>\n",
       "      <td>9</td>\n",
       "      <td>2</td>\n",
       "      <td>2</td>\n",
       "      <td>2</td>\n",
       "      <td>12</td>\n",
       "      <td>...</td>\n",
       "      <td>4</td>\n",
       "      <td>4</td>\n",
       "      <td>9</td>\n",
       "      <td>9</td>\n",
       "      <td>4</td>\n",
       "      <td>3</td>\n",
       "      <td>5</td>\n",
       "      <td>9</td>\n",
       "      <td>6</td>\n",
       "      <td>7</td>\n",
       "    </tr>\n",
       "    <tr>\n",
       "      <th>top</th>\n",
       "      <td>e</td>\n",
       "      <td>x</td>\n",
       "      <td>y</td>\n",
       "      <td>n</td>\n",
       "      <td>f</td>\n",
       "      <td>n</td>\n",
       "      <td>f</td>\n",
       "      <td>c</td>\n",
       "      <td>b</td>\n",
       "      <td>b</td>\n",
       "      <td>...</td>\n",
       "      <td>s</td>\n",
       "      <td>s</td>\n",
       "      <td>w</td>\n",
       "      <td>w</td>\n",
       "      <td>w</td>\n",
       "      <td>o</td>\n",
       "      <td>p</td>\n",
       "      <td>w</td>\n",
       "      <td>v</td>\n",
       "      <td>d</td>\n",
       "    </tr>\n",
       "    <tr>\n",
       "      <th>freq</th>\n",
       "      <td>4208</td>\n",
       "      <td>3656</td>\n",
       "      <td>3244</td>\n",
       "      <td>2284</td>\n",
       "      <td>4748</td>\n",
       "      <td>3528</td>\n",
       "      <td>7914</td>\n",
       "      <td>6812</td>\n",
       "      <td>5612</td>\n",
       "      <td>1728</td>\n",
       "      <td>...</td>\n",
       "      <td>5176</td>\n",
       "      <td>4936</td>\n",
       "      <td>4464</td>\n",
       "      <td>4384</td>\n",
       "      <td>7924</td>\n",
       "      <td>7488</td>\n",
       "      <td>3968</td>\n",
       "      <td>2388</td>\n",
       "      <td>4040</td>\n",
       "      <td>3148</td>\n",
       "    </tr>\n",
       "  </tbody>\n",
       "</table>\n",
       "<p>4 rows × 22 columns</p>\n",
       "</div>"
      ],
      "text/plain": [
       "       class cap-shape cap-surface cap-color bruises  odor gill-attachment  \\\n",
       "count   8124      8124        8124      8124    8124  8124            8124   \n",
       "unique     2         6           4        10       2     9               2   \n",
       "top        e         x           y         n       f     n               f   \n",
       "freq    4208      3656        3244      2284    4748  3528            7914   \n",
       "\n",
       "       gill-spacing gill-size gill-color   ...   stalk-surface-above-ring  \\\n",
       "count          8124      8124       8124   ...                       8124   \n",
       "unique            2         2         12   ...                          4   \n",
       "top               c         b          b   ...                          s   \n",
       "freq           6812      5612       1728   ...                       5176   \n",
       "\n",
       "       stalk-surface-below-ring stalk-color-above-ring stalk-color-below-ring  \\\n",
       "count                      8124                   8124                   8124   \n",
       "unique                        4                      9                      9   \n",
       "top                           s                      w                      w   \n",
       "freq                       4936                   4464                   4384   \n",
       "\n",
       "       veil-color ring-number ring-type spore-print-color population habitat  \n",
       "count        8124        8124      8124              8124       8124    8124  \n",
       "unique          4           3         5                 9          6       7  \n",
       "top             w           o         p                 w          v       d  \n",
       "freq         7924        7488      3968              2388       4040    3148  \n",
       "\n",
       "[4 rows x 22 columns]"
      ]
     },
     "execution_count": 3,
     "metadata": {},
     "output_type": "execute_result"
    }
   ],
   "source": [
    "mush_data.describe()"
   ]
  },
  {
   "cell_type": "code",
   "execution_count": 4,
   "metadata": {
    "collapsed": true
   },
   "outputs": [],
   "source": [
    "# Convert the columns into numbers so that .fit will work properly\n",
    "for column in mush_data.columns:\n",
    "    mush_data[column] = mush_data[column].astype(\"category\").cat.codes"
   ]
  },
  {
   "cell_type": "code",
   "execution_count": 5,
   "metadata": {},
   "outputs": [
    {
     "name": "stdout",
     "output_type": "stream",
     "text": [
      "             precision    recall  f1-score   support\n",
      "\n",
      "          0       1.00      1.00      1.00      1246\n",
      "          1       1.00      1.00      1.00      1192\n",
      "\n",
      "avg / total       1.00      1.00      1.00      2438\n",
      "\n"
     ]
    }
   ],
   "source": [
    "train, test = train_test_split(mush_data, train_size=.7, test_size=.3)\n",
    "trainX, testX = train.drop(\"class\", axis=1), test.drop(\"class\", axis=1)\n",
    "trainY, testY = train['class'], test['class']\n",
    "\n",
    "forest = RandomForestClassifier()\n",
    "forest.fit(trainX, trainY)\n",
    "\n",
    "predY = forest.predict(testX)\n",
    "print(classification_report(testY, predY))"
   ]
  },
  {
   "cell_type": "markdown",
   "metadata": {},
   "source": [
    "We see that we achieve 100% accuracy when using all of the columns available, but do we really need to use all of the top features in order to classify these mushrooms?"
   ]
  },
  {
   "cell_type": "markdown",
   "metadata": {},
   "source": [
    "# Finding Maximal Features"
   ]
  },
  {
   "cell_type": "code",
   "execution_count": 6,
   "metadata": {
    "scrolled": false
   },
   "outputs": [
    {
     "data": {
      "image/png": "[encoded data removed]",
      "text/plain": [
       "<matplotlib.figure.Figure at 0x19fb7962160>"
      ]
     },
     "metadata": {},
     "output_type": "display_data"
    }
   ],
   "source": [
    "weight = pd.DataFrame(forest.feature_importances_, index=trainX.columns)\n",
    "weight[0].sort_values().plot(kind=\"barh\", figsize=(10,12))\n",
    "plt.title(\"Importance of Features\")\n",
    "plt.xlabel(\"Higher Value means more important\")\n",
    "plt.show()"
   ]
  },
  {
   "cell_type": "markdown",
   "metadata": {},
   "source": [
    "We know that there are 21 columns of classification data, let's use the 10 most important and see if that can still give us total accuracy:"
   ]
  },
  {
   "cell_type": "code",
   "execution_count": 8,
   "metadata": {},
   "outputs": [
    {
     "name": "stdout",
     "output_type": "stream",
     "text": [
      "             precision    recall  f1-score   support\n",
      "\n",
      "          0       1.00      1.00      1.00      1057\n",
      "          1       1.00      0.99      1.00       974\n",
      "\n",
      "avg / total       1.00      1.00      1.00      2031\n",
      "\n"
     ]
    }
   ],
   "source": [
    "top10 = list(weight.head(10).index)\n",
    "train, test = train_test_split(mush_data)\n",
    "trainX, testX = train.drop(\"class\", axis=1)[top10], test.drop(\"class\", axis=1)[top10]\n",
    "trainY, testY = train['class'], test['class']\n",
    "\n",
    "forest = RandomForestClassifier()\n",
    "forest.fit(trainX, trainY)\n",
    "\n",
    "pred_y = forest.predict(testX)\n",
    "print(classification_report(testY, pred_y))"
   ]
  },
  {
   "cell_type": "markdown",
   "metadata": {},
   "source": [
    "Success! It looks like we have been able to successfully classify all of our mushrooms using just the top 10 most important features of our mushroom. However, repeated runs show that the most important feature is changed depending on how the data gets split, sometimes **odor** is at the top, and other times **gill-color** or **gill-size** is number one, and on rare occassions **population** or **spore-print-color** comes up as the top feature."
   ]
  },
  {
   "cell_type": "code",
   "execution_count": 9,
   "metadata": {
    "collapsed": true
   },
   "outputs": [],
   "source": [
    "def run_simulation():\n",
    "    \"\"\"Runs a RandomForestClassifier on all of the data and returns the features in order of most importance.\n",
    "    Built to test how often a feature is at the top, middle, or bottom\"\"\"\n",
    "    train, test = train_test_split(mush_data, train_size=.7, test_size=.3)\n",
    "    trainX, testX = train.drop(\"class\", axis=1), test.drop(\"class\", axis=1)\n",
    "    trainY, testY = train['class'], test['class']\n",
    "\n",
    "    forest = RandomForestClassifier()\n",
    "    forest.fit(trainX, trainY)\n",
    "    weight = pd.DataFrame(forest.feature_importances_, index=trainX.columns)\n",
    "    return list(weight[0].sort_values(ascending=False).index)"
   ]
  },
  {
   "cell_type": "code",
   "execution_count": 10,
   "metadata": {},
   "outputs": [
    {
     "data": {
      "text/plain": [
       "[('odor', 2.228),\n",
       " ('gill-size', 3.254),\n",
       " ('gill-color', 3.717),\n",
       " ('spore-print-color', 4.315),\n",
       " ('ring-type', 6.47),\n",
       " ('stalk-root', 7.109),\n",
       " ('population', 7.315),\n",
       " ('bruises', 8.692),\n",
       " ('stalk-surface-above-ring', 9.23),\n",
       " ('gill-spacing', 9.596),\n",
       " ('stalk-surface-below-ring', 9.683),\n",
       " ('habitat', 10.95),\n",
       " ('stalk-shape', 12.943),\n",
       " ('stalk-color-below-ring', 14.787),\n",
       " ('stalk-color-above-ring', 14.906),\n",
       " ('cap-color', 14.987),\n",
       " ('ring-number', 15.555),\n",
       " ('cap-surface', 16.616),\n",
       " ('cap-shape', 18.889),\n",
       " ('veil-color', 19.756),\n",
       " ('gill-attachment', 20.002)]"
      ]
     },
     "execution_count": 10,
     "metadata": {},
     "output_type": "execute_result"
    }
   ],
   "source": [
    "values = {key:0 for key in train.drop(\"class\", axis=1).columns}\n",
    "N = 1000\n",
    "for i in range(N):\n",
    "    # Perform 500 simulations of our RandomForestClassifier\n",
    "    order = run_simulation()\n",
    "    for i,col in enumerate(order):\n",
    "        # Record the ranking that each column got, the lower the better\n",
    "        values[col] += (i+1)\n",
    "        \n",
    "# Show the ranking from best to worst\n",
    "average_order = Counter({key:value/N for key,value in values.items()})\n",
    "average_order.most_common()[::-1]"
   ]
  },
  {
   "cell_type": "markdown",
   "metadata": {},
   "source": [
    "Here we see that **odor** is the most prominent feature on average, receiving an average ranking of 2.228, much better than **gill-size**, and **gill-color**, the order of this list is an accurate representation of the order of importance for each feature. Take this list back to the CCC and let them know that we were able to successfully classify the mushrooms using RandomForestClassification"
   ]
  },
  {
   "cell_type": "markdown",
   "metadata": {},
   "source": [
    "# My Final Thoughts:\n",
    "\n",
    "I spent two hours preparing this spell. It took a little less than an hour to get all of the basic code working, including plotting the features sorted. The second hour was spent figuring out how to deal with the fact that the important features changed with repeated runs.\n",
    "\n",
    "How was I supposed to know that I could call .cat.codes on the data in order to give them numerical? I googled the error I was getting when I didn't do that (ValueError: could not convert string to float), and this answer https://stackoverflow.com/questions/30384995/randomforestclassfier-fit-valueerror-could-not-convert-string-to-float told me to use pd.get_dummies(df) in order to split the data into separate columns. I got 100% classification from it but it made my feature importance nonsense, there were lots of zeroes and other negatives, but no positives.\n",
    "\n",
    "I read something about the difference between ordered categorical data and unordered categorical data, I got the impression that ordered categorical data is almost like doing bands, but I'm not sure. How much does this need to be addressed, if at all?\n",
    "\n",
    "Recognizing that you can eliminate all of the categories that only have one classification was REALLY cool. I didn't get that on my own, I got that after I read through your notebook. Wow!! It's so obvious but it still blew my mind.\n",
    "\n",
    "Can we expect students to recognize that repeated runs are going to change the order of importance for features? It took me a bit to figure out myself, what should they do about it? I imagine they'll want to check their answers with each other and they won't be the same. I was somewhat surprised to see how much it changed. Perhaps this can be hinted at in the instruction? Also, the sklearn page was simple enough to learn how \\_feature\\_importances\\_ worked, I had zero troubles with that\n",
    "\n",
    "I chose my method to rank the features in order of importance, but it seems to me like k-fold validation might actually be a better method, that way it's ensured that we get different data."
   ]
  }
 ],
 "metadata": {
  "kernelspec": {
   "display_name": "Python 3",
   "language": "python",
   "name": "python3"
  },
  "language_info": {
   "codemirror_mode": {
    "name": "ipython",
    "version": 3
   },
   "file_extension": ".py",
   "mimetype": "text/x-python",
   "name": "python",
   "nbconvert_exporter": "python",
   "pygments_lexer": "ipython3",
   "version": "3.6.3"
  }
 },
 "nbformat": 4,
 "nbformat_minor": 2
}
