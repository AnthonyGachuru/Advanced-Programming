{
 "cells": [
  {
   "cell_type": "code",
   "execution_count": 1,
   "metadata": {
    "collapsed": true
   },
   "outputs": [],
   "source": [
    "# sklearn has TONS of ML classes, packages, and methods meant to help make Machine Learning Easy!\n",
    "# train_test_split is a helper function to separate our data into two chunks\n",
    "# For a general Test Train QA, see https://info.salford-systems.com/blog/bid/337783/Why-Data-Scientists-Split-Data-into-Train-and-Test\n",
    "from sklearn.model_selection import train_test_split\n",
    "\n",
    "# classification_report and confusion_matrix are helper functions that show you how good your model did on different levels\n",
    "from sklearn.metrics import classification_report,confusion_matrix\n",
    "\n",
    "# RandomForest is a specific model that we will use to try and predict if mushrooms are edible or poisonous\n",
    "# This isn't the only classifier, but it is simple to implement!\n",
    "from sklearn.ensemble import RandomForestClassifier\n",
    "\n",
    "# pandas (very commonly seen as pd) is an amazing package that is widely used for managing tabular data\n",
    "import pandas as pd\n",
    "import numpy as np\n",
    "import matplotlib.pyplot as plt\n",
    "\n",
    "# Did you know you can change the default style of plots so that you don't want to rip your eyes out? Try one of these styles!\n",
    "plt.style.use(\"ggplot\")\n",
    "#plt.style.use(\"seaborn\")\n",
    "#plt.style.use(\"fivethirtyeight\")\n",
    "\n",
    "%matplotlib inline"
   ]
  },
  {
   "cell_type": "code",
   "execution_count": 2,
   "metadata": {
    "collapsed": true
   },
   "outputs": [],
   "source": [
    "# a helper function that automatically loads csv data into a DataFrame object.\n",
    "df = pd.read_csv(\"mushrooms.csv\")"
   ]
  },
  {
   "cell_type": "code",
   "execution_count": 3,
   "metadata": {
    "collapsed": false
   },
   "outputs": [
    {
     "data": {
      "text/html": [
       "<div>\n",
       "<style>\n",
       "    .dataframe thead tr:only-child th {\n",
       "        text-align: right;\n",
       "    }\n",
       "\n",
       "    .dataframe thead th {\n",
       "        text-align: left;\n",
       "    }\n",
       "\n",
       "    .dataframe tbody tr th {\n",
       "        vertical-align: top;\n",
       "    }\n",
       "</style>\n",
       "<table border=\"1\" class=\"dataframe\">\n",
       "  <thead>\n",
       "    <tr style=\"text-align: right;\">\n",
       "      <th></th>\n",
       "      <th>class</th>\n",
       "      <th>cap-shape</th>\n",
       "      <th>cap-surface</th>\n",
       "      <th>cap-color</th>\n",
       "      <th>bruises</th>\n",
       "      <th>odor</th>\n",
       "      <th>gill-attachment</th>\n",
       "      <th>gill-spacing</th>\n",
       "      <th>gill-size</th>\n",
       "      <th>gill-color</th>\n",
       "      <th>...</th>\n",
       "      <th>stalk-surface-below-ring</th>\n",
       "      <th>stalk-color-above-ring</th>\n",
       "      <th>stalk-color-below-ring</th>\n",
       "      <th>veil-type</th>\n",
       "      <th>veil-color</th>\n",
       "      <th>ring-number</th>\n",
       "      <th>ring-type</th>\n",
       "      <th>spore-print-color</th>\n",
       "      <th>population</th>\n",
       "      <th>habitat</th>\n",
       "    </tr>\n",
       "  </thead>\n",
       "  <tbody>\n",
       "    <tr>\n",
       "      <th>count</th>\n",
       "      <td>8124</td>\n",
       "      <td>8124</td>\n",
       "      <td>8124</td>\n",
       "      <td>8124</td>\n",
       "      <td>8124</td>\n",
       "      <td>8124</td>\n",
       "      <td>8124</td>\n",
       "      <td>8124</td>\n",
       "      <td>8124</td>\n",
       "      <td>8124</td>\n",
       "      <td>...</td>\n",
       "      <td>8124</td>\n",
       "      <td>8124</td>\n",
       "      <td>8124</td>\n",
       "      <td>8124</td>\n",
       "      <td>8124</td>\n",
       "      <td>8124</td>\n",
       "      <td>8124</td>\n",
       "      <td>8124</td>\n",
       "      <td>8124</td>\n",
       "      <td>8124</td>\n",
       "    </tr>\n",
       "    <tr>\n",
       "      <th>unique</th>\n",
       "      <td>2</td>\n",
       "      <td>6</td>\n",
       "      <td>4</td>\n",
       "      <td>10</td>\n",
       "      <td>2</td>\n",
       "      <td>9</td>\n",
       "      <td>2</td>\n",
       "      <td>2</td>\n",
       "      <td>2</td>\n",
       "      <td>12</td>\n",
       "      <td>...</td>\n",
       "      <td>4</td>\n",
       "      <td>9</td>\n",
       "      <td>9</td>\n",
       "      <td>1</td>\n",
       "      <td>4</td>\n",
       "      <td>3</td>\n",
       "      <td>5</td>\n",
       "      <td>9</td>\n",
       "      <td>6</td>\n",
       "      <td>7</td>\n",
       "    </tr>\n",
       "    <tr>\n",
       "      <th>top</th>\n",
       "      <td>e</td>\n",
       "      <td>x</td>\n",
       "      <td>y</td>\n",
       "      <td>n</td>\n",
       "      <td>f</td>\n",
       "      <td>n</td>\n",
       "      <td>f</td>\n",
       "      <td>c</td>\n",
       "      <td>b</td>\n",
       "      <td>b</td>\n",
       "      <td>...</td>\n",
       "      <td>s</td>\n",
       "      <td>w</td>\n",
       "      <td>w</td>\n",
       "      <td>p</td>\n",
       "      <td>w</td>\n",
       "      <td>o</td>\n",
       "      <td>p</td>\n",
       "      <td>w</td>\n",
       "      <td>v</td>\n",
       "      <td>d</td>\n",
       "    </tr>\n",
       "    <tr>\n",
       "      <th>freq</th>\n",
       "      <td>4208</td>\n",
       "      <td>3656</td>\n",
       "      <td>3244</td>\n",
       "      <td>2284</td>\n",
       "      <td>4748</td>\n",
       "      <td>3528</td>\n",
       "      <td>7914</td>\n",
       "      <td>6812</td>\n",
       "      <td>5612</td>\n",
       "      <td>1728</td>\n",
       "      <td>...</td>\n",
       "      <td>4936</td>\n",
       "      <td>4464</td>\n",
       "      <td>4384</td>\n",
       "      <td>8124</td>\n",
       "      <td>7924</td>\n",
       "      <td>7488</td>\n",
       "      <td>3968</td>\n",
       "      <td>2388</td>\n",
       "      <td>4040</td>\n",
       "      <td>3148</td>\n",
       "    </tr>\n",
       "  </tbody>\n",
       "</table>\n",
       "<p>4 rows × 23 columns</p>\n",
       "</div>"
      ],
      "text/plain": [
       "       class cap-shape cap-surface cap-color bruises  odor gill-attachment  \\\n",
       "count   8124      8124        8124      8124    8124  8124            8124   \n",
       "unique     2         6           4        10       2     9               2   \n",
       "top        e         x           y         n       f     n               f   \n",
       "freq    4208      3656        3244      2284    4748  3528            7914   \n",
       "\n",
       "       gill-spacing gill-size gill-color   ...   stalk-surface-below-ring  \\\n",
       "count          8124      8124       8124   ...                       8124   \n",
       "unique            2         2         12   ...                          4   \n",
       "top               c         b          b   ...                          s   \n",
       "freq           6812      5612       1728   ...                       4936   \n",
       "\n",
       "       stalk-color-above-ring stalk-color-below-ring veil-type veil-color  \\\n",
       "count                    8124                   8124      8124       8124   \n",
       "unique                      9                      9         1          4   \n",
       "top                         w                      w         p          w   \n",
       "freq                     4464                   4384      8124       7924   \n",
       "\n",
       "       ring-number ring-type spore-print-color population habitat  \n",
       "count         8124      8124              8124       8124    8124  \n",
       "unique           3         5                 9          6       7  \n",
       "top              o         p                 w          v       d  \n",
       "freq          7488      3968              2388       4040    3148  \n",
       "\n",
       "[4 rows x 23 columns]"
      ]
     },
     "execution_count": 3,
     "metadata": {},
     "output_type": "execute_result"
    }
   ],
   "source": [
    "df.describe()"
   ]
  },
  {
   "cell_type": "markdown",
   "metadata": {},
   "source": [
    "In any dataset, it is important to know what we are trying to accomplish. Currently, the **CCC** has asked us to **classify** mushrooms, meaning, given information about the mushrooms features, we want to be able to decide if it is edible (**e**) or poisonous **(p)**.\n",
    "\n",
    "From this table we can see that there are features relating to a mushrooms **cap**, **gill**, **stalk**, etc. Sometimes domain expertise can help you identify important or useless features. For example, a mycologist may tell you that **veil-color** is not at all important in deciding the class of a mushroom, that feature may be useless. Without domain expertise, we are left to fend for ourselves in finding features that actually matter."
   ]
  },
  {
   "cell_type": "markdown",
   "metadata": {},
   "source": [
    "All of this data is categorical, for example: a cap is either blue, clear, green, purple, ... This dataset denotes the categories with a single character: 'b' for blue, 'c' for clear, etc. You may not know exactly what each value means, but that's okay! We actually don't need to know what the value represents in order to use it for classification. However, in order to interpret the results we do need to know what the values represent."
   ]
  },
  {
   "cell_type": "code",
   "execution_count": 4,
   "metadata": {
    "collapsed": false
   },
   "outputs": [
    {
     "data": {
      "text/plain": [
       "{'b', 'c', 'e', 'g', 'n', 'p', 'r', 'u', 'w', 'y'}"
      ]
     },
     "execution_count": 4,
     "metadata": {},
     "output_type": "execute_result"
    }
   ],
   "source": [
    "# Take a peek at all the possible color values of the caps.\n",
    "set(df['cap-color'].values)"
   ]
  },
  {
   "cell_type": "markdown",
   "metadata": {},
   "source": [
    "We see above that there are 10 different color options, each with its own letter. Machine Learning methods do NOT like this on categorical data, it expects categorical data to be numbered with integers. As such, we need to convert all of our columns into categorical data."
   ]
  },
  {
   "cell_type": "code",
   "execution_count": 5,
   "metadata": {
    "collapsed": false
   },
   "outputs": [
    {
     "data": {
      "text/plain": [
       "{0, 1, 2, 3, 4, 5, 6, 7, 8, 9}"
      ]
     },
     "execution_count": 5,
     "metadata": {},
     "output_type": "execute_result"
    }
   ],
   "source": [
    "# This helper code is essential for converting categorical data into workable information\n",
    "for column in df.columns:\n",
    "    df[column] = df[column].astype(\"category\").cat.codes\n",
    "set(df['cap-color'].values)"
   ]
  },
  {
   "cell_type": "markdown",
   "metadata": {},
   "source": [
    "Create the train, test split of our data for the modeling process"
   ]
  },
  {
   "cell_type": "code",
   "execution_count": 6,
   "metadata": {
    "collapsed": false
   },
   "outputs": [
    {
     "data": {
      "text/plain": [
       "(8124, 5686, 2438, 0.6999015263417036, 0.3000984736582964)"
      ]
     },
     "execution_count": 6,
     "metadata": {},
     "output_type": "execute_result"
    }
   ],
   "source": [
    "# train_test_split will segment the data into chunks\n",
    "train, test = train_test_split(df, train_size=.7, test_size=.3)\n",
    "len(df), len(train), len(test), len(train)/len(df), len(test)/len(df)"
   ]
  },
  {
   "cell_type": "markdown",
   "metadata": {},
   "source": [
    "You can see that it split it at the 70-30 ratio we asked it for. A test size of about 20-30% is typical for Machine Learning."
   ]
  },
  {
   "cell_type": "code",
   "execution_count": 7,
   "metadata": {
    "collapsed": true
   },
   "outputs": [],
   "source": [
    "# clf is a common variable name, short for classifier\n",
    "clf = RandomForestClassifier()"
   ]
  },
  {
   "cell_type": "markdown",
   "metadata": {},
   "source": [
    "x_train, x_test, or trainX, testX are conventional for Machine Learning data\n",
    "\n",
    "this is because we are essentially doing regression, where we assume that there is a function $f(x) = y$, where $y \\in \\{e,p\\}$ and we are going to generate a guess: $\\hat{f}(x) = \\hat{y}$ and we hope that $y = \\hat{y}$ for all $x$ values.\n",
    "\n",
    "We will use our test set to check our predictions by setting $y\\_pred = \\hat{f}(x\\_test)$ and then comparing $y\\_pred$ against $y\\_test$ to see how accurate we were."
   ]
  },
  {
   "cell_type": "code",
   "execution_count": 8,
   "metadata": {
    "collapsed": false
   },
   "outputs": [
    {
     "name": "stdout",
     "output_type": "stream",
     "text": [
      "             precision    recall  f1-score   support\n",
      "\n",
      "          0       0.71      0.77      0.74      1268\n",
      "          1       0.72      0.66      0.69      1170\n",
      "\n",
      "avg / total       0.72      0.72      0.72      2438\n",
      "\n"
     ]
    }
   ],
   "source": [
    "# class is the output we are trying to predict\n",
    "# for this tutorial, we blindly assume that cap-shape, cap-surface, and cap-color are all we need to predict the class.\n",
    "y_train = train['class']\n",
    "our_features = ['cap-shape', 'cap-surface', 'cap-color']\n",
    "x_train = train[['cap-shape', 'cap-surface', 'cap-color']]\n",
    "\n",
    "y_test = test['class']\n",
    "x_test = test[['cap-shape', 'cap-surface', 'cap-color']]\n",
    "\n",
    "# .fit is a standard method name meaning: fit the model using this test data\n",
    "# it always requires the training parameters and the training output to work\n",
    "clf.fit(x_train,y_train)\n",
    "\n",
    "# .predict will use our fit model to predict the output class\n",
    "y_predicted = clf.predict(x_test)\n",
    "\n",
    "# classification_report is a helper function that shows us precise information about our accuracy\n",
    "print(classification_report(y_test, y_predicted))"
   ]
  },
  {
   "cell_type": "markdown",
   "metadata": {},
   "source": [
    "This may seem like a bunch of numbers, but the classification report is actually not too bad to read. Remember that we classified our mushrooms so instead of seeing **e** and **p** we see **0** and **1** as rows for our data. We have two rows because we have two distinct classes for our mushrooms.\n",
    "\n",
    "Precision is defined as: The number of times your model correctly guessed this value divided by The total number of times your model guessed this value.\n",
    "\n",
    "Recall is defined as: The number of times your model correctly guessed this value divided by the total number of times this shows up in y_test.\n",
    "\n",
    "F1-score is: The average of precision and recall.\n",
    "\n",
    "Support is: The number of times this value shows up in y_test"
   ]
  },
  {
   "cell_type": "markdown",
   "metadata": {},
   "source": [
    "An alternative report that also can be helpful is known as the **confusion matrix**, it shows you exactly the number of results that you got correct, and the number you got wrong"
   ]
  },
  {
   "cell_type": "code",
   "execution_count": 9,
   "metadata": {
    "collapsed": false
   },
   "outputs": [
    {
     "name": "stdout",
     "output_type": "stream",
     "text": [
      "confusion matrix\n",
      "[[974 294]\n",
      " [395 775]]\n"
     ]
    }
   ],
   "source": [
    "print(\"confusion matrix\", confusion_matrix(y_test, y_predicted), sep=\"\\n\")"
   ]
  },
  {
   "cell_type": "markdown",
   "metadata": {},
   "source": [
    "This can be read as a matrix $A_{nxn}$ where $A_{ij}$ is the number of times our model guessed $j$ as the right answer, when $i$ was the actual answer. Thus the precision and recall can be defined as the diagonal entry divided by the column sum and row sum respectively:\n",
    "\n",
    "Precision of output i: $A_{ii} \\div \\sum_{k=1}^{n}A_{ki}$\n",
    "\n",
    "Recall of output i: $A_{ii} \\div \\sum_{k=1}^{n}A_{ik}$"
   ]
  },
  {
   "cell_type": "code",
   "execution_count": 10,
   "metadata": {
    "collapsed": false
   },
   "outputs": [
    {
     "data": {
      "text/plain": [
       "(0.71146822498173845,\n",
       " 0.724976613657624,\n",
       " 0.76813880126182965,\n",
       " 0.66239316239316237,\n",
       " 0.73980351312178405,\n",
       " 0.69368488802539319)"
      ]
     },
     "execution_count": 10,
     "metadata": {},
     "output_type": "execute_result"
    }
   ],
   "source": [
    "A = confusion_matrix(y_test, y_predicted)\n",
    "# Recovering Precision (The denominator is the column sum)\n",
    "p0 = A[0,0]/(A[0,0] + A[1,0])\n",
    "p1 = A[1,1]/(A[1,1] + A[0,1])\n",
    "\n",
    "# Recovering Recall (The denominator is the row sum)\n",
    "r0 = A[0,0]/(A[0,0] + A[0,1])\n",
    "r1 = A[1,1]/(A[1,0] + A[1,1])\n",
    "\n",
    "f10 = (p0 + r0)/2\n",
    "f11 = (p1 + r1)/2\n",
    "p0,p1,r0,r1,(p0+r0)/2, (p1+r1)/2"
   ]
  },
  {
   "cell_type": "markdown",
   "metadata": {},
   "source": [
    "Check that these values match the ones shown in the classification report (with rounding to two digits of course)"
   ]
  },
  {
   "cell_type": "code",
   "execution_count": 11,
   "metadata": {
    "collapsed": false
   },
   "outputs": [
    {
     "name": "stdout",
     "output_type": "stream",
     "text": [
      "             precision    recall  f1-score   support\n",
      "\n",
      "          0       0.72      0.78      0.75      1268\n",
      "          1       0.74      0.67      0.70      1170\n",
      "\n",
      "avg / total       0.73      0.73      0.73      2438\n",
      "\n"
     ]
    }
   ],
   "source": [
    "y_train = train['class']\n",
    "our_features = ['cap-shape', 'cap-surface', 'cap-color', 'veil-color']\n",
    "x_train = train[our_features]\n",
    "\n",
    "y_test = test['class']\n",
    "x_test = test[our_features]\n",
    "\n",
    "clf.fit(x_train,y_train)\n",
    "y_predicted = clf.predict(x_test)\n",
    "\n",
    "print(classification_report(y_test, y_predicted))"
   ]
  },
  {
   "cell_type": "markdown",
   "metadata": {},
   "source": [
    "By adding in **veil-color** we see that our numbers went up slightly, but not by much. Let's look at how much each variable is affecting our output."
   ]
  },
  {
   "cell_type": "markdown",
   "metadata": {},
   "source": [
    "# Evaluating our results"
   ]
  },
  {
   "cell_type": "markdown",
   "metadata": {},
   "source": [
    "One of the coolest parts about classification is figuring out which variables (also called features) are essential and which are nonsense.  Here is some helper code that plots the features with their weight."
   ]
  },
  {
   "cell_type": "code",
   "execution_count": 12,
   "metadata": {
    "collapsed": false
   },
   "outputs": [
    {
     "data": {
      "image/png": "[encoded data removed]",
      "text/plain": [
       "<matplotlib.figure.Figure at 0x7fe23b585fd0>"
      ]
     },
     "metadata": {},
     "output_type": "display_data"
    }
   ],
   "source": [
    "# Find sort them from most important to least important\n",
    "ind = np.argsort(clf.feature_importances_)\n",
    "plt.figure(figsize=(10,12))\n",
    "\n",
    "plt.barh(range(len(clf.feature_importances_)),clf.feature_importances_[ind])\n",
    "# It is very important that you use the same columns that you fit your model with, or else this will be wrong!\n",
    "plt.yticks(range(len(clf.feature_importances_)),df[our_features].columns[ind])\n",
    "plt.title(\"Variable Importance\")\n",
    "plt.show()"
   ]
  },
  {
   "cell_type": "markdown",
   "metadata": {},
   "source": [
    "# Questions to Consider"
   ]
  },
  {
   "cell_type": "markdown",
   "metadata": {},
   "source": [
    "1) What should you do if a column only has one value?\n",
    "\n",
    "2) What happens if you use every feature column in your data?\n",
    "\n",
    "3) Can you achieve the same accuracy as 2 using less features?\n",
    "\n",
    "4) Which features were most important? Is it consistent if you run the classifier on a different train/test split?\n",
    "\n",
    "4) Can you build a function that takes the columns as input and builds a classifier, fits the model, determine the accuracy, and plot the important features?"
   ]
  },
  {
   "cell_type": "markdown",
   "metadata": {},
   "source": [
    "# Turning it in"
   ]
  },
  {
   "cell_type": "markdown",
   "metadata": {},
   "source": [
    "Make this code your own! Clean up as much as you want and make it look like a solid report that you would feel happy delivering to the **CCC** to convince them you know what features can be used to classify the edible from the poisonous! Turn your assignment in a pdf format in LearningSuite"
   ]
  },
  {
   "cell_type": "markdown",
   "metadata": {
    "collapsed": true
   },
   "source": [
    "# Additional Helper Code"
   ]
  },
  {
   "cell_type": "code",
   "execution_count": null,
   "metadata": {
    "collapsed": true
   },
   "outputs": [],
   "source": [
    "# Warning: doing inplace=True will permanently remove this column from your data\n",
    "# To drop a single column from the data\n",
    "df.drop(column_name, axis=1, inplace=True)\n",
    "# To drop multiple columns from the data\n",
    "df.drop([column1, column2, column3], axis=1, inplace=True)\n",
    "\n",
    "# To select every column in the dataframe except class:\n",
    "df.drop('class', axis=1)"
   ]
  }
 ],
 "metadata": {
  "anaconda-cloud": {},
  "kernelspec": {
   "display_name": "Python 3",
   "language": "python",
   "name": "python3"
  },
  "language_info": {
   "codemirror_mode": {
    "name": "ipython",
    "version": 3
   },
   "file_extension": ".py",
   "mimetype": "text/x-python",
   "name": "python",
   "nbconvert_exporter": "python",
   "pygments_lexer": "ipython3",
   "version": "3.6.2"
  }
 },
 "nbformat": 4,
 "nbformat_minor": 1
}
