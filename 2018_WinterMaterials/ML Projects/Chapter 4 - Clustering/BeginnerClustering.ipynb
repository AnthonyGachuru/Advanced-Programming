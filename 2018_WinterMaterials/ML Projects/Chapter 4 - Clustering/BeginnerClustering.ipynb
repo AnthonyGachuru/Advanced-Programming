{
 "cells": [
  {
   "cell_type": "code",
   "execution_count": 1,
   "metadata": {
    "collapsed": true
   },
   "outputs": [],
   "source": [
    "import numpy as np\n",
    "import pandas as pd\n",
    "\n",
    "from pydataset import data\n",
    "\n",
    "from sklearn.cluster import KMeans, SpectralClustering\n",
    "\n",
    "df = data(\"animals\")"
   ]
  },
  {
   "cell_type": "markdown",
   "metadata": {},
   "source": [
    "Salmon live in groups when young, but as adults they tend to be alone."
   ]
  },
  {
   "cell_type": "code",
   "execution_count": 2,
   "metadata": {
    "collapsed": true
   },
   "outputs": [],
   "source": [
    "# Some google searching reveals that: \n",
    "# Frogs tend to live in groups\n",
    "# Lions are not endangered\n",
    "# Lobsters do not live in groups\n",
    "# Salmon/Salamanders do live in groups\n",
    "# Spiders are not endangered\n",
    "\n",
    "#Accessing elements this way stops the 'SettingWithCopy' Warning.\n",
    "# https://www.dataquest.io/blog/settingwithcopywarning/ \n",
    "df.loc['fro', 'gro'] = 2\n",
    "df.loc['lio', 'end'] = 1\n",
    "df.loc['lob', 'gro'] = 1\n",
    "df.loc['sal', 'gro'] = 2\n",
    "df.loc['spi', 'end'] = 1"
   ]
  },
  {
   "cell_type": "code",
   "execution_count": 3,
   "metadata": {
    "scrolled": true
   },
   "outputs": [
    {
     "data": {
      "text/html": [
       "<div>\n",
       "<style>\n",
       "    .dataframe thead tr:only-child th {\n",
       "        text-align: right;\n",
       "    }\n",
       "\n",
       "    .dataframe thead th {\n",
       "        text-align: left;\n",
       "    }\n",
       "\n",
       "    .dataframe tbody tr th {\n",
       "        vertical-align: top;\n",
       "    }\n",
       "</style>\n",
       "<table border=\"1\" class=\"dataframe\">\n",
       "  <thead>\n",
       "    <tr style=\"text-align: right;\">\n",
       "      <th></th>\n",
       "      <th>war</th>\n",
       "      <th>fly</th>\n",
       "      <th>ver</th>\n",
       "      <th>end</th>\n",
       "      <th>gro</th>\n",
       "      <th>hai</th>\n",
       "    </tr>\n",
       "  </thead>\n",
       "  <tbody>\n",
       "    <tr>\n",
       "      <th>count</th>\n",
       "      <td>20.000000</td>\n",
       "      <td>20.000000</td>\n",
       "      <td>20.000000</td>\n",
       "      <td>20.000000</td>\n",
       "      <td>20.00000</td>\n",
       "      <td>20.000000</td>\n",
       "    </tr>\n",
       "    <tr>\n",
       "      <th>mean</th>\n",
       "      <td>1.500000</td>\n",
       "      <td>1.200000</td>\n",
       "      <td>1.700000</td>\n",
       "      <td>1.300000</td>\n",
       "      <td>1.65000</td>\n",
       "      <td>1.450000</td>\n",
       "    </tr>\n",
       "    <tr>\n",
       "      <th>std</th>\n",
       "      <td>0.512989</td>\n",
       "      <td>0.410391</td>\n",
       "      <td>0.470162</td>\n",
       "      <td>0.470162</td>\n",
       "      <td>0.48936</td>\n",
       "      <td>0.510418</td>\n",
       "    </tr>\n",
       "    <tr>\n",
       "      <th>min</th>\n",
       "      <td>1.000000</td>\n",
       "      <td>1.000000</td>\n",
       "      <td>1.000000</td>\n",
       "      <td>1.000000</td>\n",
       "      <td>1.00000</td>\n",
       "      <td>1.000000</td>\n",
       "    </tr>\n",
       "    <tr>\n",
       "      <th>25%</th>\n",
       "      <td>1.000000</td>\n",
       "      <td>1.000000</td>\n",
       "      <td>1.000000</td>\n",
       "      <td>1.000000</td>\n",
       "      <td>1.00000</td>\n",
       "      <td>1.000000</td>\n",
       "    </tr>\n",
       "    <tr>\n",
       "      <th>50%</th>\n",
       "      <td>1.500000</td>\n",
       "      <td>1.000000</td>\n",
       "      <td>2.000000</td>\n",
       "      <td>1.000000</td>\n",
       "      <td>2.00000</td>\n",
       "      <td>1.000000</td>\n",
       "    </tr>\n",
       "    <tr>\n",
       "      <th>75%</th>\n",
       "      <td>2.000000</td>\n",
       "      <td>1.000000</td>\n",
       "      <td>2.000000</td>\n",
       "      <td>2.000000</td>\n",
       "      <td>2.00000</td>\n",
       "      <td>2.000000</td>\n",
       "    </tr>\n",
       "    <tr>\n",
       "      <th>max</th>\n",
       "      <td>2.000000</td>\n",
       "      <td>2.000000</td>\n",
       "      <td>2.000000</td>\n",
       "      <td>2.000000</td>\n",
       "      <td>2.00000</td>\n",
       "      <td>2.000000</td>\n",
       "    </tr>\n",
       "  </tbody>\n",
       "</table>\n",
       "</div>"
      ],
      "text/plain": [
       "             war        fly        ver        end       gro        hai\n",
       "count  20.000000  20.000000  20.000000  20.000000  20.00000  20.000000\n",
       "mean    1.500000   1.200000   1.700000   1.300000   1.65000   1.450000\n",
       "std     0.512989   0.410391   0.470162   0.470162   0.48936   0.510418\n",
       "min     1.000000   1.000000   1.000000   1.000000   1.00000   1.000000\n",
       "25%     1.000000   1.000000   1.000000   1.000000   1.00000   1.000000\n",
       "50%     1.500000   1.000000   2.000000   1.000000   2.00000   1.000000\n",
       "75%     2.000000   1.000000   2.000000   2.000000   2.00000   2.000000\n",
       "max     2.000000   2.000000   2.000000   2.000000   2.00000   2.000000"
      ]
     },
     "execution_count": 3,
     "metadata": {},
     "output_type": "execute_result"
    }
   ],
   "source": [
    "df.describe()"
   ]
  },
  {
   "cell_type": "code",
   "execution_count": 10,
   "metadata": {
    "scrolled": false
   },
   "outputs": [
    {
     "name": "stdout",
     "output_type": "stream",
     "text": [
      "1 clusters yield 26.099999999999998\n",
      "2 clusters yield 17.582417582417584\n",
      "3 clusters yield 13.700000000000003\n",
      "4 clusters yield 10.95\n",
      "5 clusters yield 8.916666666666668\n",
      "6 clusters yield 7.249999999999999\n",
      "7 clusters yield 6.416666666666666\n",
      "8 clusters yield 4.883333333333334\n",
      "9 clusters yield 3.416666666666667\n",
      "10 clusters yield 2.5833333333333335\n",
      "11 clusters yield 1.9166666666666667\n",
      "12 clusters yield 1.1666666666666667\n",
      "13 clusters yield 0.5\n",
      "14 clusters yield 0.0\n",
      "15 clusters yield 0.0\n",
      "16 clusters yield 0.0\n",
      "17 clusters yield 0.0\n",
      "18 clusters yield 0.0\n",
      "19 clusters yield 0.0\n",
      "20 clusters yield 0.0\n",
      "Best # of clusters 14 yielded inertia of 0.0\n"
     ]
    }
   ],
   "source": [
    "best_cluster = None\n",
    "best_inertia = float(\"inf\")\n",
    "# Try every possible cluster and see what the distances are. Save the best.\n",
    "for i in range(1,21):\n",
    "    clus = KMeans(n_clusters = i)\n",
    "    clus.fit(df)\n",
    "    inert = clus.inertia_\n",
    "    print(\"{} clusters yield {}\".format(i, inert))\n",
    "    if inert < best_inertia:\n",
    "        best_cluster = i\n",
    "        best_inertia = inert\n",
    "print(\"Best # of clusters {} yielded inertia of {}\".format(best_cluster, best_inertia))"
   ]
  },
  {
   "cell_type": "markdown",
   "metadata": {},
   "source": [
    "Is this what we wanted to see? Obviously more clusters will yield less inertia (which is calculated as the sum of squared distances of samples to their closest cluster center)"
   ]
  },
  {
   "cell_type": "markdown",
   "metadata": {},
   "source": [
    "### I'm not sure how to read SpectralClustering to know how good it is."
   ]
  },
  {
   "cell_type": "code",
   "execution_count": 23,
   "metadata": {},
   "outputs": [
    {
     "data": {
      "text/plain": [
       "array([1, 1, 0, 1, 0, 0, 0, 0, 0, 1, 0, 0, 0, 1, 1, 0, 0, 0, 1, 0])"
      ]
     },
     "execution_count": 23,
     "metadata": {},
     "output_type": "execute_result"
    }
   ],
   "source": [
    "sp_clus = SpectralClustering(n_clusters=2, affinity='nearest_neighbors')\n",
    "sp_clus.fit(df)\n",
    "sp_clus.fit_predict(df)"
   ]
  },
  {
   "cell_type": "code",
   "execution_count": 24,
   "metadata": {},
   "outputs": [
    {
     "data": {
      "text/plain": [
       "array([[ 1. ,  1. ,  0. ,  1. ,  0. ,  0. ,  0. ,  0. ,  0. ,  1. ,  1. ,\n",
       "         1. ,  0. ,  1. ,  1. ,  0. ,  0. ,  1. ,  1. ,  0. ],\n",
       "       [ 1. ,  1. ,  0. ,  1. ,  0. ,  0.5,  0. ,  0. ,  0. ,  1. ,  0. ,\n",
       "         0. ,  0.5,  0. ,  0.5,  0. ,  0.5,  0.5,  1. ,  0. ],\n",
       "       [ 0. ,  0. ,  1. ,  1. ,  1. ,  1. ,  0. ,  0.5,  0. ,  0. ,  0. ,\n",
       "         0. ,  1. ,  1. ,  1. ,  1. ,  1. ,  0. ,  1. ,  0. ],\n",
       "       [ 1. ,  1. ,  1. ,  1. ,  0. ,  0. ,  0. ,  0. ,  0. ,  1. ,  0. ,\n",
       "         0.5,  0.5,  1. ,  1. ,  0. ,  0. ,  0. ,  1. ,  0. ],\n",
       "       [ 0. ,  0. ,  1. ,  0. ,  1. ,  1. ,  0. ,  0.5,  1. ,  0. ,  1. ,\n",
       "         0.5,  1. ,  0. ,  0. ,  1. ,  1. ,  0. ,  0. ,  1. ],\n",
       "       [ 0. ,  0.5,  1. ,  0. ,  1. ,  1. ,  0.5,  0. ,  1. ,  0. ,  0. ,\n",
       "         0.5,  1. ,  0. ,  0. ,  1. ,  1. ,  0.5,  0. ,  1. ],\n",
       "       [ 0. ,  0. ,  0. ,  0. ,  0. ,  0.5,  1. ,  1. ,  1. ,  0. ,  0. ,\n",
       "         0.5,  0.5,  0.5,  0. ,  0. ,  0.5,  0.5,  0. ,  1. ],\n",
       "       [ 0. ,  0. ,  0.5,  0. ,  0.5,  0. ,  1. ,  1. ,  1. ,  1. ,  0.5,\n",
       "         0. ,  0. ,  0.5,  0. ,  0.5,  0. ,  0. ,  0. ,  1. ],\n",
       "       [ 0. ,  0. ,  0. ,  0. ,  1. ,  1. ,  1. ,  1. ,  1. ,  0. ,  1. ,\n",
       "         0.5,  1. ,  0. ,  0. ,  1. ,  1. ,  0.5,  0. ,  1. ],\n",
       "       [ 1. ,  1. ,  0. ,  1. ,  0. ,  0. ,  0. ,  1. ,  0. ,  1. ,  0. ,\n",
       "         0.5,  0. ,  1. ,  1. ,  0. ,  0. ,  0.5,  1. ,  0. ],\n",
       "       [ 1. ,  0. ,  0. ,  0. ,  1. ,  0. ,  0. ,  0.5,  1. ,  0. ,  1. ,\n",
       "         1. ,  0. ,  1. ,  1. ,  1. ,  0. ,  1. ,  0. ,  1. ],\n",
       "       [ 1. ,  0. ,  0. ,  0.5,  0.5,  0.5,  0.5,  0. ,  0.5,  0.5,  1. ,\n",
       "         1. ,  1. ,  1. ,  1. ,  0.5,  1. ,  1. ,  0.5,  0.5],\n",
       "       [ 0. ,  0.5,  1. ,  0.5,  1. ,  1. ,  0.5,  0. ,  1. ,  0. ,  0. ,\n",
       "         1. ,  1. ,  0. ,  0. ,  1. ,  1. ,  1. ,  0.5,  1. ],\n",
       "       [ 1. ,  0. ,  1. ,  1. ,  0. ,  0. ,  0.5,  0.5,  0. ,  1. ,  1. ,\n",
       "         1. ,  0. ,  1. ,  1. ,  0. ,  0. ,  1. ,  1. ,  0. ],\n",
       "       [ 1. ,  0.5,  1. ,  1. ,  0. ,  0. ,  0. ,  0. ,  0. ,  1. ,  1. ,\n",
       "         1. ,  0. ,  1. ,  1. ,  0. ,  0. ,  1. ,  1. ,  0. ],\n",
       "       [ 0. ,  0. ,  1. ,  0. ,  1. ,  1. ,  0. ,  0.5,  1. ,  0. ,  1. ,\n",
       "         0.5,  1. ,  0. ,  0. ,  1. ,  1. ,  0. ,  0. ,  1. ],\n",
       "       [ 0. ,  0.5,  1. ,  0. ,  1. ,  1. ,  0.5,  0. ,  1. ,  0. ,  0. ,\n",
       "         1. ,  1. ,  0. ,  0. ,  1. ,  1. ,  1. ,  0. ,  1. ],\n",
       "       [ 1. ,  0.5,  0. ,  0. ,  0. ,  0.5,  0.5,  0. ,  0.5,  0.5,  1. ,\n",
       "         1. ,  1. ,  1. ,  1. ,  0. ,  1. ,  1. ,  0. ,  0.5],\n",
       "       [ 1. ,  1. ,  1. ,  1. ,  0. ,  0. ,  0. ,  0. ,  0. ,  1. ,  0. ,\n",
       "         0.5,  0.5,  1. ,  1. ,  0. ,  0. ,  0. ,  1. ,  0. ],\n",
       "       [ 0. ,  0. ,  0. ,  0. ,  1. ,  1. ,  1. ,  1. ,  1. ,  0. ,  1. ,\n",
       "         0.5,  1. ,  0. ,  0. ,  1. ,  1. ,  0.5,  0. ,  1. ]])"
      ]
     },
     "execution_count": 24,
     "metadata": {},
     "output_type": "execute_result"
    }
   ],
   "source": [
    "sp_clus.affinity_matrix_.toarray()"
   ]
  }
 ],
 "metadata": {
  "kernelspec": {
   "display_name": "Python 3",
   "language": "python",
   "name": "python3"
  },
  "language_info": {
   "codemirror_mode": {
    "name": "ipython",
    "version": 3
   },
   "file_extension": ".py",
   "mimetype": "text/x-python",
   "name": "python",
   "nbconvert_exporter": "python",
   "pygments_lexer": "ipython3",
   "version": "3.6.3"
  }
 },
 "nbformat": 4,
 "nbformat_minor": 2
}
