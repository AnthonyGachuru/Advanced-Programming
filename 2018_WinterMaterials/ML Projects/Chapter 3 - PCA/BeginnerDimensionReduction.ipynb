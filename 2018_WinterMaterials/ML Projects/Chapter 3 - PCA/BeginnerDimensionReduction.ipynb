{
 "cells": [
  {
   "cell_type": "code",
   "execution_count": null,
   "metadata": {
    "collapsed": true
   },
   "outputs": [],
   "source": [
    "from sklearn.decomposition import PCA\n",
    "from sklearn.ensemble import AdaBoostRegressor\n",
    "from sklearn.model_selection import cross_validate\n",
    "\n",
    "import numpy as np\n",
    "import pandas as pd\n",
    "from pydataset import data"
   ]
  },
  {
   "cell_type": "code",
   "execution_count": null,
   "metadata": {},
   "outputs": [],
   "source": [
    "# Is there any missing data in this dataset?\n",
    "df = data(\"attitude\")"
   ]
  },
  {
   "cell_type": "code",
   "execution_count": null,
   "metadata": {},
   "outputs": [],
   "source": [
    "# 1) Get our X data: Use all columns except what you try to predict.\n",
    "\n",
    "# 2) Get our Y data: What are we trying to predict?\n",
    "\n",
    "# 3) Create an ada boost regressor\n",
    "\n",
    "# 4) call cross_validate, what is the default order for the parameters?\n",
    "   # what does cross_validate return? How is this different from how we \n",
    "   # performed regression earlier?\n",
    "\n",
    "\n",
    "# 5) Make a new instance of the PCA object (What parameters does it take?)\n",
    "\n",
    "# 6) We need the PCA object to \"fit\" itself to the data, then we need to \"transform\"\n",
    "#    the data into a reduced form.  You can do this in two separate function calls,\n",
    "#    but you also can do it in a single call! Can you figure out how?\n",
    "\n",
    "# 7) Now that we have a reduced X, create a new regressor and call \n",
    "#    cross_validate again with this altered data\n",
    "\n",
    "# 8) Report on the time it took to fit the data, as well as the R^2 value\n",
    "#    that it took.\n",
    "#    Do you have more than one time/R^2? Why or why not?"
   ]
  },
  {
   "cell_type": "markdown",
   "metadata": {},
   "source": [
    "### Be sure and explain any decisions that you made, or things that you tried, both good and bad, summarize them below:"
   ]
  }
 ],
 "metadata": {
  "kernelspec": {
   "display_name": "Python 3",
   "language": "python",
   "name": "python3"
  },
  "language_info": {
   "codemirror_mode": {
    "name": "ipython",
    "version": 3
   },
   "file_extension": ".py",
   "mimetype": "text/x-python",
   "name": "python",
   "nbconvert_exporter": "python",
   "pygments_lexer": "ipython3",
   "version": "3.6.3"
  }
 },
 "nbformat": 4,
 "nbformat_minor": 2
}
