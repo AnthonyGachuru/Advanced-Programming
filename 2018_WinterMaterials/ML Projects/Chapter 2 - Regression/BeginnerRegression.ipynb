{
 "cells": [
  {
   "cell_type": "code",
   "execution_count": null,
   "metadata": {
    "collapsed": true
   },
   "outputs": [],
   "source": [
    "import pandas as pd\n",
    "import numpy as np\n",
    "\n",
    "# If you are on a personal computer you may need to pip install pydataset\n",
    "from pydataset import data\n",
    "\n",
    "from sklearn.model_selection import train_test_split\n",
    "\n",
    "# Each of these is a regression tool, AdaBoot, GradientBoost, SVR, and LinearRegression\n",
    "# These aren't the only ones that exist, but they are popular and easy to use!\n",
    "from sklearn.ensemble import AdaBoostRegressor, GradientBoostingRegressor\n",
    "from sklearn.svm import SVR\n",
    "from sklearn.linear_model import LinearRegression"
   ]
  },
  {
   "cell_type": "markdown",
   "metadata": {},
   "source": [
    "Some information about the data we are gathering:"
   ]
  },
  {
   "cell_type": "markdown",
   "metadata": {},
   "source": [
    "Daily readings of the following air quality values for May 1, 1973 (a Tuesday)\n",
    "to September 30, 1973.\n",
    "\n",
    "  * `Ozone`: Mean ozone in parts per billion from 1300 to 1500 hours at Roosevelt Island \n",
    "\n",
    "  * `Solar.R`: Solar radiation in Langleys in the frequency band 4000–7700 Angstroms from 0800 to 1200 hours at Central Park \n",
    "\n",
    "  * `Wind`: Average wind speed in miles per hour at 0700 and 1000 hours at LaGuardia Airport \n",
    "\n",
    "  * `Temp`: Maximum daily temperature in degrees Fahrenheit at La Guardia Airport. "
   ]
  },
  {
   "cell_type": "code",
   "execution_count": null,
   "metadata": {
    "collapsed": true
   },
   "outputs": [],
   "source": [
    "air_df = data(\"airquality\")"
   ]
  },
  {
   "cell_type": "code",
   "execution_count": null,
   "metadata": {
    "scrolled": true
   },
   "outputs": [],
   "source": [
    "air_df.describe()"
   ]
  },
  {
   "cell_type": "markdown",
   "metadata": {},
   "source": [
    "Hmm, it looks like quite a bit of data is missing for the Ozone, and some for the Solar.R, let's replace the NaNs with the mean data for now: (This may not be the best, perhaps we can later think about replacing NaNs with the values that are close to them in Month/Day instead of just taking the average, plus because there are only 153 rows, the Ozone NaNs might show up in streaks). Maybe we just out to outright drop the columns, trying to infer them might be too bold.\n",
    "\n",
    "This is a common question you will encounter in any Data Science or Machine Learning project you work with: **Our data is not perfect, what should we do to fix it?** The answer is usually: well, it depends...\n",
    "\n",
    "Good data cleaning can often make or break your project."
   ]
  },
  {
   "cell_type": "code",
   "execution_count": null,
   "metadata": {
    "collapsed": true
   },
   "outputs": [],
   "source": [
    "# Try reading the docs to figure out how to use df.fillna\n",
    "air_df.fillna?"
   ]
  },
  {
   "cell_type": "code",
   "execution_count": null,
   "metadata": {},
   "outputs": [],
   "source": [
    "# Replace the NaNs with the mean.\n",
    "#air_df = air_df.fillna(# Put approriate parameters here!!)"
   ]
  },
  {
   "cell_type": "code",
   "execution_count": null,
   "metadata": {},
   "outputs": [],
   "source": [
    "# Verify that we fixed all of our NaNs\n",
    "air_df.describe()"
   ]
  },
  {
   "cell_type": "code",
   "execution_count": null,
   "metadata": {},
   "outputs": [],
   "source": [
    "# We want to regress on the Ozone value, so we can't use it in our train values.\n",
    "trainX, testX, trainY, testY = train_test_split(air_df.drop(\"Ozone\", axis=1), air_df.Ozone, test_size=.2, train_size=.8)\n",
    "\n",
    "# Warning! These won't work if we have any NaNs in our data!\n",
    "lr = LinearRegression()\n",
    "lr.fit(trainX, trainY)\n",
    "lr_acc = lr.score(testX, testY)\n",
    "\n",
    "abr = AdaBoostRegressor()\n",
    "abr.fit(trainX, trainY)\n",
    "abr_acc = abr.score(testX, testY)\n",
    "\n",
    "print(\"Linear Regression got R^2 of\", lr_acc)\n",
    "print(\"AdaBoost Regression got R^2 of\", abr_acc)"
   ]
  },
  {
   "cell_type": "markdown",
   "metadata": {},
   "source": [
    "We used Linear Regression and AdaBoost in this tutorial, how do Gradient Boost and SVR (Support Vector Regression) perform? Better, or worse?"
   ]
  },
  {
   "cell_type": "code",
   "execution_count": null,
   "metadata": {
    "collapsed": true
   },
   "outputs": [],
   "source": [
    "# Try using Gradient Boost and SVR here:"
   ]
  },
  {
   "cell_type": "markdown",
   "metadata": {},
   "source": [
    "Which method performed best? Can you get a better $R^2$ using less columns? How can we find which columns matter and which ones do not? Consider looking up these Regression models to try and learn! \n",
    "\n",
    "(Google something like: sklearn AdaBoostRegressor)"
   ]
  },
  {
   "cell_type": "code",
   "execution_count": null,
   "metadata": {
    "collapsed": true
   },
   "outputs": [],
   "source": [
    "# Try performing regression using all 4 methods on a subset of the data!"
   ]
  },
  {
   "cell_type": "markdown",
   "metadata": {},
   "source": [
    "This dataset is small enough that it's hard to be consistent with our $R^2$, for that reason we are going to have to set a random seed in order to maintain consistency across our $R^2$ values. Try using one of these seeds and see how your $R^2$ changes:\n",
    "\n",
    "Seeds = [16325, 81438, 43289, 42382, 50947,  25083,  32385,  22261,  65884,\n",
    "        54264,  76296, 1822, 49744]\n",
    "        \n",
    "Where do you put this seed number? Any ideas? If not, ask somebody!"
   ]
  }
 ],
 "metadata": {
  "kernelspec": {
   "display_name": "Python 3",
   "language": "python",
   "name": "python3"
  },
  "language_info": {
   "codemirror_mode": {
    "name": "ipython",
    "version": 3
   },
   "file_extension": ".py",
   "mimetype": "text/x-python",
   "name": "python",
   "nbconvert_exporter": "python",
   "pygments_lexer": "ipython3",
   "version": "3.6.3"
  }
 },
 "nbformat": 4,
 "nbformat_minor": 2
}
