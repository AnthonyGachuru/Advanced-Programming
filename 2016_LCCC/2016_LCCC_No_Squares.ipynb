{
 "cells": [
  {
   "cell_type": "code",
   "execution_count": null,
   "metadata": {
    "collapsed": true
   },
   "outputs": [],
   "source": [
    "    #NOSQUARES\n",
    "    n=int(raw_input())\n",
    "    listk=[]\n",
    "    for k in xrange(2,100):\n",
    "        if n%k==0:\n",
    "            listk.append(k)\n",
    "            n=n/k\n",
    "    print listk\n",
    "    print len(listk)"
   ]
  },
  {
   "cell_type": "code",
   "execution_count": null,
   "metadata": {
    "collapsed": true
   },
   "outputs": [],
   "source": [
    "n= int(raw_input().strip())\n",
    "\n",
    "rt = int(n**0.5)+1\n",
    "p = [2,3,5,7,11,13,17,19,23,29,31,37,41,43,47,53,59,61,67,71,73,79,83,89,97]\n",
    "check = p + range(100,rt+1)\n",
    "div = []\n",
    "for i in check:\n",
    "    if n%i==0:\n",
    "        div.append(i)\n",
    "\n",
    "max_p = 0\n",
    "for i in div:\n",
    "    k=n\n",
    "    counter = 0\n",
    "    while k%i==0:\n",
    "        k=k/i\n",
    "        counter +=1\n",
    "    max_p = max(max_p, counter)\n",
    "print max_p"
   ]
  },
  {
   "cell_type": "code",
   "execution_count": null,
   "metadata": {
    "collapsed": true
   },
   "outputs": [],
   "source": [
    "\n",
    "# no_squares.py\n",
    "\n",
    "# Enter your code here. Read input from STDIN. Print output to STDOUT\n",
    "import math\n",
    "d = {}\n",
    "\n",
    "def prime_generator():\n",
    "    yield 2\n",
    "    yield 3\n",
    "    primes = set((2,3))\n",
    "    i = 5\n",
    "    while True:\n",
    "        i_is_prime = True\n",
    "        for p in primes:\n",
    "            if i % p == 0:\n",
    "                i_is_prime = False\n",
    "                break\n",
    "        if i_is_prime:\n",
    "            yield i\n",
    "            primes.add(i)\n",
    "        i += 2\n",
    "        \n",
    "gen = prime_generator()\n",
    "n = int(raw_input())\n",
    "p = gen.next()\n",
    "while n > 1:\n",
    "    if n % p == 0:\n",
    "        if p not in d:\n",
    "            d[p] = 1\n",
    "        else:\n",
    "            d[p] += 1\n",
    "        n /= p\n",
    "    else:\n",
    "        p = gen.next()\n",
    "print max(d.values())"
   ]
  },
  {
   "cell_type": "code",
   "execution_count": null,
   "metadata": {
    "collapsed": true
   },
   "outputs": [],
   "source": [
    "def isprime(n) :\n",
    "    if pow(2,n-1,n) == 1 and pow(3,n-1,n) == 1 and pow(5,n-1,n) == 1 and pow(7,n-1,n) == 1 :\n",
    "        return True\n",
    "    else :\n",
    "        return False\n",
    "\n",
    "primes = ['2','3','5','7']\n",
    "for i in xrange(11,2000001) :\n",
    "    if isprime(i) :\n",
    "        primes.append(str(i))\n",
    "\n",
    "def factor(n,dictp) :\n",
    "    if n == 1:\n",
    "        return dictp\n",
    "    for x in primes :\n",
    "        if n % int(x) == 0 :\n",
    "            if x in dictp :\n",
    "                dictp[x] += 1\n",
    "            else :\n",
    "                dictp[x] = 1\n",
    "            return factor(n/int(x),dictp)\n",
    "\n",
    "n = int(raw_input())\n",
    "if n == 1 or isprime(n):\n",
    "    print 1\n",
    "else :\n",
    "    l = factor(n,dict())\n",
    "    print l[max(l,key=l.get)]\n"
   ]
  },
  {
   "cell_type": "code",
   "execution_count": null,
   "metadata": {
    "collapsed": true
   },
   "outputs": [],
   "source": [
    "import math\n",
    "d = {}\n",
    "\n",
    "def prime_generator():\n",
    "    yield 2\n",
    "    yield 3\n",
    "    primes = set((2,3))\n",
    "    i = 5\n",
    "    while True:\n",
    "        i_is_prime = True\n",
    "        for p in primes:\n",
    "            if i % p == 0:\n",
    "                i_is_prime = False\n",
    "                break\n",
    "        if i_is_prime:\n",
    "            yield i\n",
    "            primes.add(i)\n",
    "        i += 2\n",
    "        \n",
    "gen = prime_generator()\n",
    "n = int(raw_input())\n",
    "p = gen.next()\n",
    "while n > 1:\n",
    "    if n % p == 0:\n",
    "        if p not in d:\n",
    "            d[p] = 1\n",
    "        else:\n",
    "            d[p] += 1\n",
    "        n /= p\n",
    "    else:\n",
    "        p = gen.next()\n",
    "print max(d.values())"
   ]
  }
 ],
 "metadata": {
  "kernelspec": {
   "display_name": "Python 2",
   "language": "python",
   "name": "python2"
  },
  "language_info": {
   "codemirror_mode": {
    "name": "ipython",
    "version": 2
   },
   "file_extension": ".py",
   "mimetype": "text/x-python",
   "name": "python",
   "nbconvert_exporter": "python",
   "pygments_lexer": "ipython2",
   "version": "2.7.12"
  }
 },
 "nbformat": 4,
 "nbformat_minor": 0
}
