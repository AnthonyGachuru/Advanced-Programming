{
 "cells": [
  {
   "cell_type": "code",
   "execution_count": null,
   "metadata": {
    "collapsed": true
   },
   "outputs": [],
   "source": [
    "\n",
    "# reductionism.py\n",
    "\n",
    "word = raw_input()\n",
    "for c in word:\n",
    "    print c"
   ]
  },
  {
   "cell_type": "code",
   "execution_count": null,
   "metadata": {
    "collapsed": true
   },
   "outputs": [],
   "source": [
    "word = raw_input()\n",
    "for c in word:\n",
    "    print c"
   ]
  },
  {
   "cell_type": "code",
   "execution_count": null,
   "metadata": {
    "collapsed": true
   },
   "outputs": [],
   "source": [
    "#------------- ACM Competition Questions -------------#\n",
    "def reductionism():\n",
    "    word = raw_input()\n",
    "    for i in xrange(len(word)):\n",
    "        print word[i]\n",
    "\n",
    "def powers():\n",
    "    k = raw_input()\n",
    "    n = raw_input()\n",
    "    for i in xrange(2,33):\n",
    "        if n**i == k:\n",
    "            print \"YES\"\n",
    "        else:\n",
    "            print \"NO\"\n",
    "\n",
    "# if __name__ == '__main__':\n",
    "#      print reductionism(\"reductionism\")\n"
   ]
  },
  {
   "cell_type": "code",
   "execution_count": null,
   "metadata": {
    "collapsed": true
   },
   "outputs": [],
   "source": [
    "# Enter your code here. Read input from STDIN. Print output to STDOUT\n",
    "word = raw_input().strip()\n",
    "for letter in word:\n",
    "    print letter"
   ]
  }
 ],
 "metadata": {
  "kernelspec": {
   "display_name": "Python 2",
   "language": "python",
   "name": "python2"
  },
  "language_info": {
   "codemirror_mode": {
    "name": "ipython",
    "version": 2
   },
   "file_extension": ".py",
   "mimetype": "text/x-python",
   "name": "python",
   "nbconvert_exporter": "python",
   "pygments_lexer": "ipython2",
   "version": "2.7.12"
  }
 },
 "nbformat": 4,
 "nbformat_minor": 0
}
