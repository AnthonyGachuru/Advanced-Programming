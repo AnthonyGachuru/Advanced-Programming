{
 "cells": [
  {
   "cell_type": "code",
   "execution_count": null,
   "metadata": {
    "collapsed": true
   },
   "outputs": [],
   "source": [
    "# Enter your code here. Read input from STDIN. Print output to STDOUT\n",
    "a=int(raw_input())\n",
    "b=int(raw_input())\n",
    "i=0\n",
    "this=False\n",
    "while b**i<=a:\n",
    "    if b==1 and a!=1:\n",
    "        break\n",
    "    if b**i==a:\n",
    "        print \"YES\"\n",
    "        this=True\n",
    "        break\n",
    "    else:\n",
    "        i+=1\n",
    "if this==False:\n",
    "    print 'NO'"
   ]
  },
  {
   "cell_type": "code",
   "execution_count": null,
   "metadata": {
    "collapsed": true
   },
   "outputs": [],
   "source": [
    "from math import log\n",
    "\n",
    "k = long(raw_input())\n",
    "n = long(raw_input())\n",
    "\n",
    "if n == 1 and k == 1:\n",
    "    print 'YES'\n",
    "elif n == 1:\n",
    "    print 'NO'\n",
    "elif n == 0:\n",
    "    print 'NO'\n",
    "else:\n",
    "    i = log(k)/log(n)\n",
    "\n",
    "    #if abs(int(i) - i) <= 0.0000000001:\n",
    "    if abs(int(i) - i) <= 0.0001:\n",
    "        print 'YES'\n",
    "    else:\n",
    "        print 'NO'"
   ]
  },
  {
   "cell_type": "code",
   "execution_count": null,
   "metadata": {
    "collapsed": true
   },
   "outputs": [],
   "source": [
    "# Power of N\n",
    "k = raw_input()\n",
    "n = raw_input()\n",
    "k,n = int(k), int(n)\n",
    "\n",
    "if k == 1:\n",
    "   print \"YES\"\n",
    "elif k < n:\n",
    "   print \"NO\"\n",
    "elif k == n:\n",
    "   print \"YES\"\n",
    "elif n == 1:\n",
    "   print \"NO\"\n",
    "else:\n",
    "   while k % n == 0:\n",
    "       k = k/n\n",
    "   if k == 1:\n",
    "       print \"YES\"\n",
    "   else:\n",
    "       print \"NO\""
   ]
  },
  {
   "cell_type": "code",
   "execution_count": null,
   "metadata": {
    "collapsed": true
   },
   "outputs": [],
   "source": [
    "# Enter your code here. Read input from STDIN. Print output to STDOUT\n",
    "import math\n",
    "n = int(raw_input().strip())\n",
    "k =  int(raw_input().strip())\n",
    "if k == 1:\n",
    "    if n == 1:\n",
    "        print \"YES\"\n",
    "    else:\n",
    "        print \"NO\"\n",
    "else:\n",
    "    ex = int(math.log(n)/math.log(k))\n",
    "\n",
    "    if k**ex == n:\n",
    "        print \"YES\"\n",
    "    else:\n",
    "        print \"NO\"\n"
   ]
  },
  {
   "cell_type": "code",
   "execution_count": null,
   "metadata": {
    "collapsed": true
   },
   "outputs": [],
   "source": [
    "import math\n",
    "\n",
    "k = float(raw_input())\n",
    "n = float(raw_input())\n",
    "\n",
    "\n",
    "\n",
    "while (k > 1):\n",
    "    if n == 1:\n",
    "        break\n",
    "    k = k/n\n",
    "    if int(k) != k:\n",
    "        break\n",
    "\n",
    "\n",
    "if k == 1:\n",
    "    print \"YES\"\n",
    "else :\n",
    "    print \"NO\"\n"
   ]
  },
  {
   "cell_type": "code",
   "execution_count": null,
   "metadata": {
    "collapsed": true
   },
   "outputs": [],
   "source": [
    "def powers():\n",
    "    k = raw_input()\n",
    "    n = raw_input()\n",
    "    for i in xrange(2,33):\n",
    "        if n**i == k:\n",
    "            print \"YES\"\n",
    "        else:\n",
    "            print \"NO\""
   ]
  },
  {
   "cell_type": "code",
   "execution_count": null,
   "metadata": {
    "collapsed": true
   },
   "outputs": [],
   "source": [
    "#powers_of_n\n",
    "\n",
    "k = float(raw_input())\n",
    "n = float(raw_input())\n",
    "\n",
    "if n == 1 and k != 1:\n",
    "    print \"NO\"\n",
    "if n == 1 and k == 1:\n",
    "    print \"YES\"\n",
    "else:    \n",
    "    while k > 1:\n",
    "        k = k/n\n",
    "\n",
    "    if k == 1:\n",
    "        print \"YES\"\n",
    "    if k < 1:\n",
    "        print \"NO\"\n"
   ]
  },
  {
   "cell_type": "code",
   "execution_count": null,
   "metadata": {
    "collapsed": true
   },
   "outputs": [],
   "source": [
    "#POWER OF N\n",
    "k = float(raw_input())\n",
    "n = float(raw_input())\n",
    "\n",
    "a = math.log(k,n)\n",
    "b = int(a)\n",
    "\n",
    "if a == b:\n",
    "    print \"YES\"    \n",
    "else :\n",
    "    print \"NO\""
   ]
  },
  {
   "cell_type": "code",
   "execution_count": null,
   "metadata": {
    "collapsed": true
   },
   "outputs": [],
   "source": [
    "from math import log\n",
    "k = float(raw_input())\n",
    "n = float(raw_input())\n",
    "if n == 1:\n",
    "    if k == 1:\n",
    "        print \"YES\"\n",
    "    else:\n",
    "        print \"NO\"\n",
    "elif k == 1:\n",
    "    print \"YES\"\n",
    "else:\n",
    "    i = log(k, n)\n",
    "    if i - i//1 == 0:\n",
    "        print \"YES\"\n",
    "    else:\n",
    "        print \"NO\"\n"
   ]
  },
  {
   "cell_type": "code",
   "execution_count": null,
   "metadata": {
    "collapsed": true
   },
   "outputs": [],
   "source": [
    "#Power of N problem from LCCC 2016\n",
    "import math \n",
    "k = float(raw_input())\n",
    "n = float(raw_input())\n",
    "if n==1 and k==1:\n",
    "    print \"YES\"\n",
    "elif n==1 and k != 1:\n",
    "    print \"NO\"\n",
    "else:\n",
    "    k = math.log(k,n)\n",
    "    if int(k) == k:\n",
    "        print \"YES\"\n",
    "    else:\n",
    "        print \"NO\""
   ]
  },
  {
   "cell_type": "code",
   "execution_count": null,
   "metadata": {
    "collapsed": true
   },
   "outputs": [],
   "source": [
    "k = int(raw_input())\n",
    "n = int(raw_input())\n",
    "import math\n",
    "if k > 1:\n",
    "    x = int(32 * math.log(2) / math.log(k))\n",
    "else:\n",
    "    x = 2**32\n",
    "def this(k,n,x):\n",
    "    for j in xrange(x):\n",
    "        if n**j ==k:\n",
    "            return \"YES\"\n",
    "        if n ** j > k:\n",
    "            return \"NO\"\n",
    "    return \"NO\"\n",
    "\n",
    "print this(k,n,x)"
   ]
  },
  {
   "cell_type": "code",
   "execution_count": null,
   "metadata": {
    "collapsed": true
   },
   "outputs": [],
   "source": [
    "\n",
    "# power_of_n.py\n",
    "\n",
    "# Enter your code here. Read input from STDIN. Print output to STDOUT\n",
    "from math import log\n",
    "\n",
    "k = long(raw_input())\n",
    "n = long(raw_input())\n",
    "\n",
    "if n == 1 and k == 1:\n",
    "    print 'YES'\n",
    "elif n == 1:\n",
    "    print 'NO'\n",
    "elif n == 0:\n",
    "    print 'NO'\n",
    "else:\n",
    "    i = log(k)/log(n)\n",
    "\n",
    "    #if abs(int(i) - i) <= 0.0000000001:\n",
    "    if abs(int(i) - i) <= 0.0001:\n",
    "        print 'YES'\n",
    "    else:\n",
    "        print 'NO'"
   ]
  }
 ],
 "metadata": {
  "kernelspec": {
   "display_name": "Python 2",
   "language": "python",
   "name": "python2"
  },
  "language_info": {
   "codemirror_mode": {
    "name": "ipython",
    "version": 2
   },
   "file_extension": ".py",
   "mimetype": "text/x-python",
   "name": "python",
   "nbconvert_exporter": "python",
   "pygments_lexer": "ipython2",
   "version": "2.7.12"
  }
 },
 "nbformat": 4,
 "nbformat_minor": 0
}
