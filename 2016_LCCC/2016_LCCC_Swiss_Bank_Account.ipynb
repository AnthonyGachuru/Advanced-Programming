{
 "cells": [
  {
   "cell_type": "code",
   "execution_count": null,
   "metadata": {
    "collapsed": true
   },
   "outputs": [],
   "source": [
    "# swiss_bank_account.py\n",
    "\n",
    "# Note: I had this code done, then Hackerrank deleted it :((((\n",
    "\n",
    "code = []\n",
    "cur = \"\"\n",
    "register = [(0,0)]*8\n",
    "\n",
    "while cur != \"END\":\n",
    "    command = raw_input().strip().split()\n",
    "    code.append(command)\n",
    "    cur = command[1]\n",
    "\n",
    "for line in code:\n",
    "    command = line[1]\n",
    "    if command == \"SET\":\n",
    "        to_add = line[3]\n",
    "        tuple = (0,0)\n",
    "        if to_add[0] == \"'\":\n",
    "            to_add = to_add[1:-1]\n",
    "            to_add = ord(str(to_add))\n",
    "            tuple[0] = to_add\n",
    "            tuple[1] = 1\n",
    "        else:\n",
    "            to_add = int(str(to_add))\n",
    "            tuple[0] = to_add\n",
    "            tuple[1] = 0\n",
    "        register[int(line[2])] = tuple\n",
    "    elif command == \"ADD\":\n",
    "        passl\n",
    "    elif command == \"CMP\":\n",
    "        pass\n",
    "    elif command == \"JMP\":\n",
    "        pass\n",
    "    elif command == \"JIF\":\n",
    "        pass\n",
    "    elif command == \"OUT\":\n",
    "        pass\n",
    "    elif command == \"END\":\n",
    "        break"
   ]
  },
  {
   "cell_type": "code",
   "execution_count": null,
   "metadata": {
    "collapsed": true
   },
   "outputs": [],
   "source": [
    "#Swiss Bank Accout\n",
    "rawcommand = raw_input()\n",
    "storage = []\n",
    "\n",
    "print rawcommand\n",
    "\n",
    "while (rawcommand[4] != \"E\"):\n",
    "    storage.append(rawcommand)\n",
    "    rawcommand = raw_input()\n",
    "\n",
    "for d in storage:\n",
    "    index, instruc, variable1, variable2 = d.split(\" \")\n",
    "    print instruc"
   ]
  },
  {
   "cell_type": "code",
   "execution_count": null,
   "metadata": {
    "collapsed": true
   },
   "outputs": [],
   "source": []
  }
 ],
 "metadata": {
  "kernelspec": {
   "display_name": "Python 2",
   "language": "python",
   "name": "python2"
  },
  "language_info": {
   "codemirror_mode": {
    "name": "ipython",
    "version": 2
   },
   "file_extension": ".py",
   "mimetype": "text/x-python",
   "name": "python",
   "nbconvert_exporter": "python",
   "pygments_lexer": "ipython2",
   "version": "2.7.12"
  }
 },
 "nbformat": 4,
 "nbformat_minor": 0
}
