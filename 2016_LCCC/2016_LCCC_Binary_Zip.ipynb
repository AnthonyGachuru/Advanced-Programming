{
 "cells": [
  {
   "cell_type": "code",
   "execution_count": null,
   "metadata": {
    "collapsed": true
   },
   "outputs": [],
   "source": [
    "N = int(raw_input())\n",
    "a, b = map(int,raw_input().split())\n",
    "a = bin(a)[2:]\n",
    "b = bin(b)[2:]\n",
    "\n",
    "if len(a) < N:\n",
    "    a = '0'* (N-len(a)) + a\n",
    "\n",
    "if len(b) < N:\n",
    "    b = '0'* (N-len(b)) + b\n",
    "\n",
    "zip = ''.join(map(str,map(int,[not int(c) for c in a]))) == b\n",
    "    \n",
    "if zip:\n",
    "    print 'YES'\n",
    "else:\n",
    "    print 'NO'"
   ]
  },
  {
   "cell_type": "code",
   "execution_count": null,
   "metadata": {
    "collapsed": true
   },
   "outputs": [],
   "source": [
    "# Enter your code here. Read input from STDIN. Print output to STDOUT\n",
    "import sys\n",
    "t = int(raw_input())\n",
    "line = raw_input().split(' ')\n",
    "a = int(line[0])\n",
    "b = int(line[1])\n",
    "\n",
    "a_binary = []\n",
    "b_binary = []\n",
    "\n",
    "\n",
    "answer = []\n",
    "\n",
    "for i in range(t):\n",
    "    val = 2**(t-i-1)\n",
    "    #print(val)\n",
    "    if a < val:\n",
    "        a_binary.append(0)\n",
    "    else:\n",
    "        a_binary.append(1)\n",
    "        a = a - val\n",
    "    \n",
    "    if b < val:\n",
    "        b_binary.append(0)\n",
    "    else:\n",
    "        b_binary.append(1)\n",
    "        b = b - val\n",
    "    \n",
    "#print(a_binary)   \n",
    "#print(b_binary)\n",
    "    \n",
    "for i in range(t):\n",
    "    answer.append(a_binary[i]+b_binary[i])\n",
    "\n",
    "if min(answer)<1 or max(answer)>1:\n",
    "    print \"NO\"\n",
    "else:\n",
    "    print \"YES\""
   ]
  },
  {
   "cell_type": "code",
   "execution_count": null,
   "metadata": {
    "collapsed": true
   },
   "outputs": [],
   "source": [
    "def switch(x):\n",
    "    if x == \"0\":\n",
    "        return \"1\"\n",
    "    else:\n",
    "        return \"0\"\n",
    "bits = int(raw_input())\n",
    "compare = map(int,(raw_input().split()))\n",
    "num1 = str(bin(compare[0])[2:])\n",
    "num2 = str(bin(compare[1])[2:])\n",
    "if len(num1) < bits:\n",
    "    pad = \"0\" * (bits - len(num1))\n",
    "    num1 = pad + num1\n",
    "if len(num2) < bits:\n",
    "    pad = \"0\" * (bits - len(num2))\n",
    "    num2 = pad + num2\n",
    "num3 = map(switch,num2)\n",
    "num3 = (\"\").join(num3)\n",
    "if num3 == num1:\n",
    "    print \"YES\"\n",
    "else:\n",
    "    print \"NO\"\n"
   ]
  },
  {
   "cell_type": "code",
   "execution_count": null,
   "metadata": {
    "collapsed": true
   },
   "outputs": [],
   "source": [
    "length = int(raw_input())\n",
    "numbers = raw_input().split()\n",
    "def here(length, numbers):\n",
    "    num1 =int(numbers[0])\n",
    "    num2 =int(numbers[1])\n",
    "    result = \"YES\"\n",
    "    for k in xrange(length):\n",
    "        mod1 = num1 % (2**(k+1))\n",
    "        mod2 = num2 % (2**(k+1))\n",
    "        num1 = num1-mod1\n",
    "        num2 = num2-mod2\n",
    "        if mod1 == mod2:\n",
    "            result = \"NO\"\n",
    "    return result\n",
    "print here(length, numbers)\n"
   ]
  },
  {
   "cell_type": "code",
   "execution_count": null,
   "metadata": {
    "collapsed": true
   },
   "outputs": [],
   "source": [
    "n = int(raw_input().strip())\n",
    "p = map(int, raw_input().strip().split())\n",
    "\n",
    "if p[0]<2**(n-1) and p[1]<2**(n-1):\n",
    "    print \"NO\"\n",
    "else:\n",
    "    if p[1]^p[0] == 2^n - 1:\n",
    "        print \"YES\"\n",
    "    else:\n",
    "        print \"NO\""
   ]
  },
  {
   "cell_type": "code",
   "execution_count": null,
   "metadata": {
    "collapsed": true
   },
   "outputs": [],
   "source": [
    "# Binary Zip\n",
    "n = input()\n",
    "num_1, num_2 = raw_input().strip().split()\n",
    "num_1 = int(num_1)\n",
    "num_2 = int(num_2)\n",
    "\n",
    "answer = num_1 + num_2\n",
    "if (answer+1) == 2**n:\n",
    "    print \"YES\"\n",
    "else:\n",
    "    print \"NO\""
   ]
  },
  {
   "cell_type": "code",
   "execution_count": null,
   "metadata": {
    "collapsed": true
   },
   "outputs": [],
   "source": []
  }
 ],
 "metadata": {
  "kernelspec": {
   "display_name": "Python 2",
   "language": "python",
   "name": "python2"
  },
  "language_info": {
   "codemirror_mode": {
    "name": "ipython",
    "version": 2
   },
   "file_extension": ".py",
   "mimetype": "text/x-python",
   "name": "python",
   "nbconvert_exporter": "python",
   "pygments_lexer": "ipython2",
   "version": "2.7.12"
  }
 },
 "nbformat": 4,
 "nbformat_minor": 0
}
