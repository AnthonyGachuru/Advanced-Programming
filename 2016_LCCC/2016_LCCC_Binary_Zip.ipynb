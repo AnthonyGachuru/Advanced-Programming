{
 "cells": [
  {
   "cell_type": "code",
   "execution_count": null,
   "metadata": {
    "collapsed": true
   },
   "outputs": [],
   "source": [
    "N = int(raw_input())\n",
    "a, b = map(int,raw_input().split())\n",
    "a = bin(a)[2:]\n",
    "b = bin(b)[2:]\n",
    "\n",
    "if len(a) < N:\n",
    "    a = '0'* (N-len(a)) + a\n",
    "\n",
    "if len(b) < N:\n",
    "    b = '0'* (N-len(b)) + b\n",
    "\n",
    "zip = ''.join(map(str,map(int,[not int(c) for c in a]))) == b\n",
    "    \n",
    "if zip:\n",
    "    print 'YES'\n",
    "else:\n",
    "    print 'NO'"
   ]
  },
  {
   "cell_type": "code",
   "execution_count": null,
   "metadata": {
    "collapsed": true
   },
   "outputs": [],
   "source": []
  }
 ],
 "metadata": {
  "kernelspec": {
   "display_name": "Python 2",
   "language": "python",
   "name": "python2"
  },
  "language_info": {
   "codemirror_mode": {
    "name": "ipython",
    "version": 2
   },
   "file_extension": ".py",
   "mimetype": "text/x-python",
   "name": "python",
   "nbconvert_exporter": "python",
   "pygments_lexer": "ipython2",
   "version": "2.7.12"
  }
 },
 "nbformat": 4,
 "nbformat_minor": 0
}
