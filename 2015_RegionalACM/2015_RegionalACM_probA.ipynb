{
 "cells": [
  {
   "cell_type": "code",
   "execution_count": null,
   "metadata": {
    "collapsed": false
   },
   "outputs": [],
   "source": [
    "import sys\n",
    "T = int(raw_input().strip())\n",
    "\n",
    "for t in xrange(T):\n",
    "    N = int(raw_input().strip())\n",
    "    votes = []\n",
    "    for n in xrange(N):\n",
    "        votes.append(int(raw_input().strip()))\n",
    "    total = sum(votes)\n",
    "    highest = max(votes)\n",
    "    candidate = 1 + votes.index(highest)\n",
    "    if votes.count(highest) > 1:\n",
    "        print \"no winner\"\n",
    "    elif float(highest)/total > 0.5:\n",
    "        print \"majority winner \" + str(candidate)\n",
    "    else:\n",
    "        print \"minority winner \" + str(candidate)"
   ]
  },
  {
   "cell_type": "code",
   "execution_count": null,
   "metadata": {
    "collapsed": true
   },
   "outputs": [],
   "source": [
    "# popular_vote.py\n",
    "\n",
    "import numpy as np\n",
    "import sys\n",
    "\n",
    "# get number of test cases\n",
    "test_cases = int(raw_input().strip())\n",
    "# make lists of all results\n",
    "for i in range(test_cases):\n",
    "    \"\"\" David's approach\n",
    "    n = int(raw_input().strip())\n",
    "    votes = []\n",
    "    for i in xrange(1, n+1):\n",
    "        votes.append(int(raw_input().strip())\n",
    "    total_votes = sum(votes)\n",
    "    # get max value and index of max value in list\n",
    "    indices_ord = [j for j in reversed(np.argsort(votes))]\n",
    "    sorted_votes = [i for i in reversed(sorted(votes))]\n",
    "    if sorted_votes[0] == sorted_votes[1]:\n",
    "        print sorted_votes[0], sorted_votes[1]\n",
    "        print \"no winner\"\n",
    "    elif sorted_votes[0] > sum(sorted_votes[1:]):\n",
    "        print \"majority winner\", indices_ord[0]+1\n",
    "    else:\n",
    "        print \"minority winner\", indices_ord[0]+1\n",
    "    \"\"\"\n",
    "    winner = np.arg_max(arr)\n",
    "    max_votes = np.pop(winner)\n",
    "    if max_votes in arr:\n",
    "        return \"no winner\"\n",
    "    # get sum of all values\n",
    "    to_print = \"majority \"\n",
    "    if (max_value / float(np.sum(arr))) < 0.5:\n",
    "        to_print = \"minority \"\n",
    "    print to_print + str(winner)"
   ]
  },
  {
   "cell_type": "code",
   "execution_count": null,
   "metadata": {
    "collapsed": true
   },
   "outputs": [],
   "source": [
    "# Majority Winner\n",
    "\n",
    "number_of_test_cases = input()\n",
    "\n",
    "for j in range(number_of_test_cases):\n",
    "    n = input()\n",
    "    votes_for_candidate = [0]*n\n",
    "    for i in range(n):\n",
    "        votes_for_candidate[i] = input()\n",
    "    total_votes = sum(votes_for_candidate)\n",
    "    winner = max(votes_for_candidate)\n",
    "    votes_for_candidate.remove(winner)\n",
    "    if winner in votes_for_candidate:\n",
    "        print \"no winner\"\n",
    "    elif winner > total_votes/2:\n",
    "        print \"majority winner\"\n",
    "    else:\n",
    "        print \"minority winner\""
   ]
  },
  {
   "cell_type": "code",
   "execution_count": null,
   "metadata": {
    "collapsed": true
   },
   "outputs": [],
   "source": [
    "#ACM problems\n",
    "import numpy as np\n",
    "import copy\n",
    "\n",
    "def problem_a():\n",
    "    cases = int(raw_input())#how many test cases\n",
    "    for k in xrange(cases):\n",
    "        candidates = int(raw_input())#how many candidates\n",
    "        votes = []\n",
    "        total = 0\n",
    "        for j in xrange(candidates):\n",
    "            vote = int(raw_input())\n",
    "            votes.append(vote)\n",
    "            total += vote\n",
    "        highest = max(votes)\n",
    "        if votes.count(highest) > 1:\n",
    "            print \"no winner\"\n",
    "        else:\n",
    "            for i in xrange(candidates):\n",
    "                if votes[i] == highest:\n",
    "                    if votes[i] > total / 2:\n",
    "                        print \"majority winner \" + str(i+1)\n",
    "                    else:\n",
    "                        print \"minority winner \" + str(i+1)"
   ]
  },
  {
   "cell_type": "code",
   "execution_count": null,
   "metadata": {
    "collapsed": true
   },
   "outputs": [],
   "source": [
    "numberTC=input()\n",
    "c=0\n",
    "\n",
    "while c<numberTC:\n",
    "    mylist=[]\n",
    "    numberCan=input()\n",
    "    d=0\n",
    "    while d<numberCan:\n",
    "        mylist.append(input())\n",
    "        d+=1\n",
    "    totalSum=sum(mylist)\n",
    "    maxList=max(mylist)\n",
    "    if mylist.count(maxList)>1:\n",
    "        print \"no winner\"\n",
    "    elif float(maxList)/totalSum>.5:\n",
    "        print \"majority winner \",mylist.index(maxList)+1\n",
    "    else:\n",
    "        print \"minority winner \",mylist.index(maxList)+1\n",
    "        \n",
    "    c+=1"
   ]
  },
  {
   "cell_type": "code",
   "execution_count": null,
   "metadata": {
    "collapsed": true
   },
   "outputs": [],
   "source": [
    "num_test = int(raw_input())\n",
    "for i in range(num_test):\n",
    "    #print(\"for i\")\n",
    "    num_cand = int(raw_input())\n",
    "    votes=[]\n",
    "    for j in range(num_cand):\n",
    "        #print(\"for j\")\n",
    "        votes.append(int(raw_input()))\n",
    "    big = max(votes)\n",
    "    big_ind = votes.index(max(votes)) + 1\n",
    "    total = sum(votes)\n",
    "    i = 0\n",
    "    same = False\n",
    "    while i < len(votes)-1:\n",
    "        #print(\"while i\")\n",
    "        if votes[i] == votes[i+1]:\n",
    "            same = True\n",
    "        else:\n",
    "            #print(\"break\")\n",
    "            same = False\n",
    "            break\n",
    "    if total/2 >= big:\n",
    "        print(\"miniority winner\", big_ind)\n",
    "    elif total/2 < big:\n",
    "        print(\"majority winner\", big_ind)\n",
    "    elif same == True:\n",
    "        print(\"no winner\")\n",
    "        \n",
    "        \"\"\"It's really close but not quite there.\"\"\""
   ]
  },
  {
   "cell_type": "code",
   "execution_count": null,
   "metadata": {
    "collapsed": true
   },
   "outputs": [],
   "source": [
    "# PROBLEM A\n",
    "\"\"\"\n",
    "McKell Stauffer\n",
    "\"\"\"\n",
    "\n",
    "TestCases = int(raw_input())\n",
    "for i in xrange(TestCases):\n",
    "    NumCanidates = int(raw_input())\n",
    "    List = []\n",
    "    for k in xrange(NumCanidates):\n",
    "        List.append(int(raw_input()))\n",
    "    Max = max(List)\n",
    "    Index = List.index(Max)\n",
    "    List.remove(List[Index])\n",
    "    Winner = \"Majority Winner\"\n",
    "    for j in xrange(len(List)):\n",
    "        if List[j] == Max:\n",
    "            Winner = \"No Winner\"\n",
    "    if Winner == \"No Winner\":\n",
    "        print \"No Winner\"\n",
    "    else:\n",
    "        if Max <= sum(List):\n",
    "            Winner = \"Minority Winner\"\n",
    "        print Winner, (Index+1)\n"
   ]
  }
 ],
 "metadata": {
  "kernelspec": {
   "display_name": "Python 2",
   "language": "python",
   "name": "python2"
  },
  "language_info": {
   "codemirror_mode": {
    "name": "ipython",
    "version": 2
   },
   "file_extension": ".py",
   "mimetype": "text/x-python",
   "name": "python",
   "nbconvert_exporter": "python",
   "pygments_lexer": "ipython2",
   "version": "2.7.12"
  }
 },
 "nbformat": 4,
 "nbformat_minor": 0
}
