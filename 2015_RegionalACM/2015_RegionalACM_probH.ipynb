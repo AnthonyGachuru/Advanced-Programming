{
 "cells": [
  {
   "cell_type": "code",
   "execution_count": null,
   "metadata": {
    "collapsed": true
   },
   "outputs": [],
   "source": [
    "import math\n",
    "\n",
    "x = int(raw_input().strip())\n",
    "while x!=0:\n",
    "    base = -1\n",
    "    x_root = int(math.sqrt(x))\n",
    "    for mod in range(4,x_root+2):\n",
    "        if (x-3)%mod==0:\n",
    "            base = mod\n",
    "            break\n",
    "    if x in [1,2,3,4,5,6]:\n",
    "        print \"No such base\"\n",
    "    elif base==-1:\n",
    "        print x-3\n",
    "    else:\n",
    "        print base\n",
    "    x = int(raw_input().strip())"
   ]
  },
  {
   "cell_type": "code",
   "execution_count": null,
   "metadata": {
    "collapsed": true
   },
   "outputs": [],
   "source": [
    "def problem_h():\n",
    "    number = int(raw_input())\n",
    "    while number != 0:\n",
    "        if number < 3:\n",
    "            print \"no such base\"\n",
    "        elif number == 3:\n",
    "            print 4\n",
    "        else:\n",
    "            for k in xrange(1,number):\n",
    "                if number % k == 3:\n",
    "                    print k\n",
    "                    break\n",
    "        number = int(raw_input())"
   ]
  },
  {
   "cell_type": "code",
   "execution_count": null,
   "metadata": {
    "collapsed": true
   },
   "outputs": [],
   "source": [
    "def smallest_factor(n):\n",
    "    for i in xrange(4,int(math.ceil(np.sqrt(n+3)+1)):\n",
    "        if n%i ==0:\n",
    "            return i\n",
    "    return n\n",
    "\n",
    "def probH():\n",
    "    l =[]\n",
    "    number = None\n",
    "    while number !=0:\n",
    "        number = int(raw_input))\n",
    "        l.append(number)\n",
    "    l.remove(0)\n",
    "    print \"-------------------\"\n",
    "\n",
    "    for item in l:\n",
    "        if item == 3:\n",
    "            print 4\n",
    "        elif item <6:\n",
    "            print \"No such base\"\n",
    "        else:\n",
    "            print smallest_factor(item-3)"
   ]
  },
  {
   "cell_type": "code",
   "execution_count": null,
   "metadata": {
    "collapsed": true
   },
   "outputs": [],
   "source": [
    "#probH\n",
    "import numpy as np\n",
    "import math\n",
    "\n",
    "def smallest_factor(n):\n",
    "    for i in xrange(4,int(math.ceil(np.sqrt(n+3)+1)):\n",
    "        if n%i ==0:\n",
    "            return i\n",
    "    return n\n",
    "\n",
    "def probH():\n",
    "    l =[]\n",
    "    number = None\n",
    "    while number !=0:\n",
    "        number = int(raw_input))\n",
    "        l.append(number)\n",
    "    l.remove(0)\n",
    "    print \"-------------------\"\n",
    "\n",
    "    for item in l:\n",
    "        if item == 3:\n",
    "            print 4\n",
    "        elif item <6:\n",
    "            print \"No such base\"\n",
    "        else:\n",
    "            print smallest_factor(item-3)"
   ]
  },
  {
   "cell_type": "code",
   "execution_count": null,
   "metadata": {
    "collapsed": true
   },
   "outputs": [],
   "source": [
    "def magic2(number):\n",
    "    number = number - 3\n",
    "    def mag2(number):\n",
    "        if number < 0:\n",
    "            return \"No such base\"\n",
    "        if number % 4 == 0:\n",
    "            return 4\n",
    "        if number % 5 == 0:\n",
    "            return 5\n",
    "        if number % 6 == 0:\n",
    "            return 6\n",
    "        if number % 9 == 0:\n",
    "            return 9\n",
    "        if number % 3 == 0:\n",
    "            return mag2(number/3)\n",
    "        if number % 2 == 0:\n",
    "            return mag2(number/2)\n",
    "        for x in xrange(7,int(1+number**0.5),2):\n",
    "            #print x\n",
    "            if number % x == 0:\n",
    "                return x\n",
    "        return number\n",
    "    \n",
    "    return mag2(number)"
   ]
  },
  {
   "cell_type": "code",
   "execution_count": null,
   "metadata": {
    "collapsed": true
   },
   "outputs": [],
   "source": [
    "def probH():\n",
    "    l=[]\n",
    "    number=None\n",
    "    while number!=0:\n",
    "        number=int(raw_input())\n",
    "        l.append(number)\n",
    "    l.remove(0)\n",
    "    print \"------------------------------\\t\"\n",
    "    for item in l:\n",
    "        if item == 3:\n",
    "            print 4\n",
    "        elif item < 6:\n",
    "            print \"No such number\"\n",
    "        else:\n",
    "            print smallest_factor(item-3)"
   ]
  }
 ],
 "metadata": {
  "kernelspec": {
   "display_name": "Python 2",
   "language": "python",
   "name": "python2"
  },
  "language_info": {
   "codemirror_mode": {
    "name": "ipython",
    "version": 2
   },
   "file_extension": ".py",
   "mimetype": "text/x-python",
   "name": "python",
   "nbconvert_exporter": "python",
   "pygments_lexer": "ipython2",
   "version": "2.7.12"
  }
 },
 "nbformat": 4,
 "nbformat_minor": 0
}
