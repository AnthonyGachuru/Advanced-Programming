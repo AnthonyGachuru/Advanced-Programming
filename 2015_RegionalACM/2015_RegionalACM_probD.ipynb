{
 "cells": [
  {
   "cell_type": "markdown",
   "metadata": {},
   "source": [
    "# 2015 Regional ACM Competition\n",
    "## Problem D\n",
    "Please refrence 2015_RegionalACM.pdf for this problem statement.\n",
    "Further materials, including solution outlines, can be found at http://org.coloradomesa.edu/~wmacevoy/rmrc/2015/index.html\n",
    "\n",
    "### Student Submissions, Fall 2016, Math 495R:"
   ]
  },
  {
   "cell_type": "code",
   "execution_count": null,
   "metadata": {
    "collapsed": true
   },
   "outputs": [],
   "source": [
    "def problem_D():\n",
    "    T = int(raw_input().strip())\n",
    "    for t in xrange(T):\n",
    "        a = [int(i) for i in raw_input.strip().split()]\n",
    "        scale = float(a[2])/a[1]\n",
    "        ingredients = []\n",
    "        for i in xrange(a[0]):\n",
    "            name, weight, percent = raw_input.strip().split()\n",
    "            if float(percent) == 100:\n",
    "                main = i\n",
    "            ingredients.append([name, weight, percent])\n",
    "            \n",
    "        scaled_main = ingredients[main][1]*scale\n",
    "        print \"Recipe #\", t\n",
    "        for i in xrange(ingredients):\n",
    "            print ingredients[i][0], float(ingredients[i][2])*scaled_main"
   ]
  },
  {
   "cell_type": "code",
   "execution_count": null,
   "metadata": {
    "collapsed": true
   },
   "outputs": [],
   "source": [
    "def probD():\n",
    "    T=int(raw_input())\n",
    "    for i in range(T):\n",
    "        places=[]\n",
    "        n=int(raw_input())\n",
    "        for j in range(n):\n",
    "            new=str(raw_input())\n",
    "            if new not in places:\n",
    "                places.append(new)\n",
    "        print len(places)"
   ]
  },
  {
   "cell_type": "code",
   "execution_count": null,
   "metadata": {
    "collapsed": true
   },
   "outputs": [],
   "source": [
    "def recipies():\n",
    "    \"\"\"scaling factor = desired portions/original number of portions\n",
    "        main scaled weight = weght of main * scaling factor\n",
    "        other ingredients = main scaled weight * other Baker's percentage\"\"\"\n",
    "\n",
    "    test_cases = input()\n",
    "    for i in xrange(testcases):\n",
    "        num_ingredients = input()\n",
    "        original_portions = input()\n",
    "        desired_portions = input()\n",
    "        print \"Recipe #\", i\n",
    "        for j in xrange(num_ingredients):\n",
    "            name = input()\n",
    "            weight = input()\n",
    "            percentage = input()"
   ]
  },
  {
   "cell_type": "code",
   "execution_count": null,
   "metadata": {
    "collapsed": true
   },
   "outputs": [],
   "source": [
    "def problem_d():\n",
    "    cases = int(raw_input())#how many cases\n",
    "    for k in xrange(cases):\n",
    "\n",
    "        okay = raw_input().split()\n",
    "        ingredients = []\n",
    "        weights = []\n",
    "        percentages = []\n",
    "        main = []\n",
    "        #new_stuff = []\n",
    "        scaling_factor = float(okay[2]) / float(okay[1])\n",
    "        for j in xrange(int(okay[0])):\n",
    "            this = raw_input().split()\n",
    "            if this[2] == \"100.0\":\n",
    "                main.append(this[0])\n",
    "                main.append(this[1])\n",
    "                main.append(this[2])\n",
    "            ingredients.append(this[0])\n",
    "            weights.append(this[1])\n",
    "            percentages.append(this[2])\n",
    "        print \"Recipe # \" + str(k+1)\n",
    "        scaled_weight = float(main[1]) * scaling_factor\n",
    "        for i in xrange(len(ingredients)):\n",
    "            here = float(scaled_weight) * float(percentages[i]) / 100.0\n",
    "            print ingredients[i] + \" \" + str(here)\n",
    "            #new_stuff.append(here)\n"
   ]
  },
  {
   "cell_type": "code",
   "execution_count": null,
   "metadata": {
    "collapsed": true
   },
   "outputs": [],
   "source": [
    "def ProbD():\n",
    "    T = int(raw_input())\n",
    "    for recipe in xrange(T):\n",
    "        IN = map(int, raw_input().strip().split(' '))\n",
    "        R = IN[0]\n",
    "        P = IN[1]\n",
    "        D = IN[2]\n",
    "        L = []\n",
    "        scale = float(D) / P\n",
    "        main_weight = 0\n",
    "        for i in xrange(R):\n",
    "            new_ingredient = raw_input().strip().split(' ')\n",
    "            ingredient = Ingredient(new_ingredient[0], new_ingredient[1], new_ingredient[2])\n",
    "            L.append(ingredient)\n",
    "            if ingredient.isMain():\n",
    "                ingredient.weight = ingredient.weight*scale\n",
    "                main_weight = ingredient.weight\n",
    "\n",
    "        print \"Recipe # \" + str(recipe + 1)\n",
    "        for ingredient in L:\n",
    "            ingredient.weight = ingredient.percentage * main_weight / 100.0\n",
    "            print ingredient\n",
    "        print \"----------------------------------------\"\n"
   ]
  },
  {
   "cell_type": "code",
   "execution_count": null,
   "metadata": {
    "collapsed": true
   },
   "outputs": [],
   "source": [
    "# Problem D\n",
    "def recipes():\n",
    "    for t in xrange(T):\n",
    "        I = map(int,raw_input().strip().split())\n",
    "        ingredients = []\n",
    "        factor = float(I[2])/I[1]\n",
    "        main = 0\n",
    "        main_weight = 0\n",
    "        for i in xrange(I[0]):\n",
    "            ingredients.append(map(str,raw_input().strip().split()))\n",
    "            if float(ingredients[i][2]) == 100.0:\n",
    "                main = float(ingredients[i][1])\n",
    "                main_weight = main * factor\n",
    "        print \"Recipe # \" + str(t + 1)\n",
    "        for i in xrange(len(ingredients)):\n",
    "            ingredients[i][1] = float(ingredients[i][2]) * main_weight *.01\n",
    "            print(ingredients[i][0]), \"%.1f\" % ingredients[i][1]\n",
    "        print \"-\"*40"
   ]
  },
  {
   "cell_type": "code",
   "execution_count": null,
   "metadata": {
    "collapsed": true
   },
   "outputs": [],
   "source": [
    "# RECIPE PROBLEM\n",
    "number_of_test_cases = input()\n",
    "for i in range(number_of_test_cases):\n",
    "    number_of_ingredients, original_portion, new_portion = raw_input().strip().split()\n",
    "    recpie = {}\n",
    "    main_weight = 0\n",
    "    for n in range(int(number_of_ingredients)):\n",
    "        name, weight, percentage = raw_input().strip().split()\n",
    "        \n",
    "        recpie[name] = (float(weight), float(percentage))\n",
    "        scaling_factor = float(new_portion)/float(original_portion)\n",
    "        if float(percentage) == 100.0:\n",
    "            main = name\n",
    "            main_weight = recpie[main][0] * scaling_factor\n",
    "    for key,value in recpie.items():\n",
    "        print key +\": \"+ str(value[1]*main_weight/100)"
   ]
  },
  {
   "cell_type": "code",
   "execution_count": null,
   "metadata": {
    "collapsed": true
   },
   "outputs": [],
   "source": [
    "#Problem D\n",
    "import numpy as np\n",
    "\n",
    "class Ingredient(object):\n",
    "\n",
    "    def __init__(self, name, weight, percentage):\n",
    "        self.name = name\n",
    "        self.weight = float(weight)\n",
    "        self.percentage = float(percentage)\n",
    "        if float(percentage) == 100.0:\n",
    "            self.main = True\n",
    "        else:\n",
    "            self.main = False\n",
    "\n",
    "    def isMain(self):\n",
    "        return self.main\n",
    "\n",
    "    def __str__(self):\n",
    "        ret_str = \"\"\n",
    "        ret_str += self.name + \" \" + str(self.weight)\n",
    "        return ret_str\n",
    "\n",
    "\n",
    "def ProbD():\n",
    "    T = int(raw_input()) # .strip()\n",
    "    for recipe in xrange(T):\n",
    "        IN = map(int, raw_input().strip().split(' '))\n",
    "        R = IN[0]\n",
    "        P = IN[1]\n",
    "        D = IN[2]\n",
    "        L = []\n",
    "        scale = float(D) / P\n",
    "        main_weight = 0\n",
    "        for i in xrange(R):\n",
    "            new_ingredient = raw_input().strip().split(' ')\n",
    "            ingredient = Ingredient(new_ingredient[0], new_ingredient[1], new_ingredient[2])\n",
    "            L.append(ingredient)\n",
    "            if ingredient.isMain():\n",
    "                ingredient.weight = ingredient.weight*scale\n",
    "                main_weight = ingredient.weight\n",
    "                \n",
    "        print \"Recipe # \" + str(recipe + 1)\n",
    "        for ingredient in L:\n",
    "            ingredient.weight = ingredient.percentage * main_weight / 100.0\n",
    "            print ingredient\n",
    "        print \"----------------------------------------\"\n"
   ]
  },
  {
   "cell_type": "code",
   "execution_count": null,
   "metadata": {
    "collapsed": true
   },
   "outputs": [],
   "source": []
  }
 ],
 "metadata": {
  "kernelspec": {
   "display_name": "Python 2",
   "language": "python",
   "name": "python2"
  },
  "language_info": {
   "codemirror_mode": {
    "name": "ipython",
    "version": 2
   },
   "file_extension": ".py",
   "mimetype": "text/x-python",
   "name": "python",
   "nbconvert_exporter": "python",
   "pygments_lexer": "ipython2",
   "version": "2.7.12"
  }
 },
 "nbformat": 4,
 "nbformat_minor": 0
}
