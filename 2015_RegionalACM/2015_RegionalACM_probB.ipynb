{
 "cells": [
  {
   "cell_type": "markdown",
   "metadata": {},
   "source": [
    "# 2015 Regional ACM Competition\n",
    "## Problem B\n",
    "Please refrence 2015_RegionalACM.pdf for this problem statement.\n",
    "Further materials, including solution outlines, can be found at http://org.coloradomesa.edu/~wmacevoy/rmrc/2015/index.html\n",
    "\n",
    "### Student Submissions, Fall 2016, Math 495R:"
   ]
  },
  {
   "cell_type": "code",
   "execution_count": null,
   "metadata": {
    "collapsed": true
   },
   "outputs": [],
   "source": [
    "def probB():\n",
    "    x = int(raw_input())\n",
    "    for i in range(x):\n",
    "        cards = []\n",
    "        y = int(raw_input())\n",
    "        for j in range(y):\n",
    "            cards.append(raw_input())\n",
    "        hand = set(cards)\n",
    "        numbers = [number[0] for number in hand].append([number[1] for number in hand])\n",
    "        if len(hand) == len(cards) and len(numbers) >= y:\n",
    "            print \"possible\"\n",
    "        else:\n",
    "            print \"impossible\""
   ]
  },
  {
   "cell_type": "code",
   "execution_count": null,
   "metadata": {
    "collapsed": true
   },
   "outputs": [],
   "source": [
    "def probB():\n",
    "    x = int(raw_input())\n",
    "    for i in range(x):\n",
    "        cards = []\n",
    "        y = int(raw_input())\n",
    "        for j in range(y):\n",
    "            cards.append(raw_input())\n",
    "        hand = set(cards)\n",
    "        numbers = [number[0] for number in hand].append([number[1] for number in hand])\n",
    "        if len(hand) == len(cards) and len(numbers) >= y:\n",
    "            print \"possible\"\n",
    "        else:\n",
    "            print \"impossible\""
   ]
  },
  {
   "cell_type": "code",
   "execution_count": null,
   "metadata": {
    "collapsed": true
   },
   "outputs": [],
   "source": [
    "def probB():\n",
    "    digits=[]\n",
    "    tuples=[]\n",
    "    integers=0\n",
    "    T=int(raw_input())\n",
    "    for i in range(T):\n",
    "        n=int(raw_input())\n",
    "        for j in range(n):\n",
    "            p,q=raw_input().strip().split(\" \")\n",
    "            p=int(p)\n",
    "            q=int(q)\n",
    "            #tuple part\n",
    "            if p<q:\n",
    "                new_tuple=p,q,0\n",
    "            elif q<p:\n",
    "                new_tuple=q,p,0\n",
    "            elif q==p:\n",
    "                new_tuple=p,q,1\n",
    "            while new_tuple in tuples:\n",
    "                new_tuple[2]+=1\n",
    "            if new_tuple[2]==2:\n",
    "                print \"impossible\"\n",
    "                #return?\n",
    "            else:\n",
    "                tuples.append(new_tuple)\n",
    "\n",
    "            #digit part\n",
    "            if p not in digits:\n",
    "                digits.append(p)\n",
    "            if q not in digits:\n",
    "                digits.append(q)\n",
    "\n",
    "            if len(digits)>=n:\n",
    "                print \"impossible\"\n",
    "                #return?\n",
    "            else: #this doesnt make sense\n",
    "                print \"possible\"\n"
   ]
  },
  {
   "cell_type": "code",
   "execution_count": null,
   "metadata": {
    "collapsed": true
   },
   "outputs": [],
   "source": [
    "def problem_b():\n",
    "    def combinations1(possibility, hands):\n",
    "        x = len(possibility)\n",
    "        card = hands[x]\n",
    "        possibility1 = copy.copy(possibility)\n",
    "        possibility2 = copy.copy(possibility)\n",
    "        possibility1.append(card[0])\n",
    "        possibility2.append(card[1])\n",
    "        #print \"length \" + str(len(possibility1))\n",
    "        #print \"total \" + str(total) \n",
    "        if len(possibility1) == len(hands):\n",
    "            return [possibility1, possibility2]\n",
    "        else:\n",
    "            next_card = raw_input().split()\n",
    "            print possibility1, possibility2\n",
    "            return [combinations(possibility1,hands), combinations(possibility2, hands)]\n",
    "    def combinations(possibility, hands):\n",
    "        x = len(possibility)\n",
    "        card = hands[x]\n",
    "        possibility1 = copy.copy(possibility)\n",
    "        possibility2 = copy.copy(possibility)\n",
    "        possibility1.append(card[0])\n",
    "        possibility2.append(card[1])\n",
    "        #print \"length \" + str(len(possibility1))\n",
    "        #print \"total \" + str(total) \n",
    "        if len(possibility1) == len(hands):\n",
    "            print possibility1, possibility2\n",
    "            return possibility1, possibility2\n",
    "        else:\n",
    "            next_card = raw_input().split()\n",
    "            print possibility1, possibility2\n",
    "            return combinations(possibility1,hands), combinations(possibility2, hands)\n",
    "    cases = int(raw_input())\n",
    "    for k in xrange(cases):\n",
    "        cards = int(raw_input())\n",
    "        hands = []\n",
    "        for j in xrange(cards):\n",
    "            hands.append(raw_input().split())\n",
    "        #first_card = raw_input().split()\n",
    "        empty = []\n",
    "        oh_yeah = combinations1(empty, hands)\n",
    "        for i in len(oh_yeah):\n",
    "            seen = set(oh_yeah[i])\n",
    "            if len(seen) == len(oh_yeah[i]):\n",
    "                print \"possible\"\n",
    "                break\n",
    "        print \"impossible\""
   ]
  }
 ],
 "metadata": {
  "kernelspec": {
   "display_name": "Python 2",
   "language": "python",
   "name": "python2"
  },
  "language_info": {
   "codemirror_mode": {
    "name": "ipython",
    "version": 2
   },
   "file_extension": ".py",
   "mimetype": "text/x-python",
   "name": "python",
   "nbconvert_exporter": "python",
   "pygments_lexer": "ipython2",
   "version": "2.7.12"
  }
 },
 "nbformat": 4,
 "nbformat_minor": 0
}
