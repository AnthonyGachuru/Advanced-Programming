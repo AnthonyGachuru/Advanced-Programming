{
 "cells": [
  {
   "cell_type": "markdown",
   "metadata": {},
   "source": [
    "# 2015 Regional ACM Competition\n",
    "## Problem J\n",
    "Please refrence 2015_RegionalACM.pdf for this problem statement.\n",
    "Further materials, including solution outlines, can be found at http://org.coloradomesa.edu/~wmacevoy/rmrc/2015/index.html\n",
    "\n",
    "### Student Submissions, Fall 2016, Math 495R:"
   ]
  },
  {
   "cell_type": "code",
   "execution_count": null,
   "metadata": {
    "collapsed": true
   },
   "outputs": [],
   "source": [
    "def problem_j():\n",
    "    def is_it_here(the_list, the_city):\n",
    "        for k in xrange(len(the_list)):\n",
    "            if the_list[k] == the_city:\n",
    "                return True\n",
    "        return False\n",
    "    trips = int(raw_input())#how many trips\n",
    "    for k in xrange(trips):\n",
    "        cities = []\n",
    "        stops = int(raw_input())#how many stops\n",
    "        for j in xrange(stops):\n",
    "            this = raw_input()\n",
    "            if is_it_here(cities,this) == False:\n",
    "                cities.append(this)\n",
    "        print len(cities)"
   ]
  },
  {
   "cell_type": "code",
   "execution_count": null,
   "metadata": {
    "collapsed": true
   },
   "outputs": [],
   "source": [
    "cities = []\n",
    "n = int(raw_input())\n",
    "for i in range(n):\n",
    "    num_cities = int(raw_input())\n",
    "    for j in range(num_cities):\n",
    "        cities.append(raw_input())\n",
    "    cities = set(cities)\n",
    "    print(len(cities))\n",
    "    cities = []"
   ]
  },
  {
   "cell_type": "code",
   "execution_count": null,
   "metadata": {
    "collapsed": true
   },
   "outputs": [],
   "source": [
    "Num_Test_Cases = int(raw_input().strip())\n",
    "\n",
    "for i in range(Num_Test_Cases):\n",
    "    num_trips = int(raw_input().strip())\n",
    "    set_cities = set()\n",
    "    for i in range(num_trips):\n",
    "        set_cities.add(raw_input())\n",
    "    print len(set_cities)\n"
   ]
  },
  {
   "cell_type": "code",
   "execution_count": null,
   "metadata": {
    "collapsed": true
   },
   "outputs": [],
   "source": [
    "nc = int(raw_input())\n",
    "while(nc > 0):\n",
    "    nc = nc - 1\n",
    "    s = set()\n",
    "    for i in range(int(raw_input())):\n",
    "        s.add(raw_input())\n",
    "    print len(s)"
   ]
  },
  {
   "cell_type": "code",
   "execution_count": null,
   "metadata": {
    "collapsed": true
   },
   "outputs": [],
   "source": [
    "Num_Test_Cases = int(raw_input().strip())\n",
    "\n",
    "for i in range(Num_Test_Cases):\n",
    "    num_trips = int(raw_input().strip())\n",
    "    set_cities = set()\n",
    "    for i in range(num_trips):\n",
    "        set_cities.add(raw_input())\n",
    "    print len(set_cities)\n"
   ]
  },
  {
   "cell_type": "code",
   "execution_count": null,
   "metadata": {
    "collapsed": true
   },
   "outputs": [],
   "source": [
    "# acm2015_J.py\n",
    "\n",
    "def problem_J():\n",
    "    T = int(raw_input().strip())\n",
    "    visit = []\n",
    "    for t in xrange(T):\n",
    "        n = int(raw_input().strip())\n",
    "        cities = set()\n",
    "        for i in xrange(n):\n",
    "            c = raw_input().strip()\n",
    "            cities.add(c)\n",
    "        visit.append(len(cities))\n",
    "    for i in xrange(len(visit)):\n",
    "        print visit[i]\n",
    "    "
   ]
  }
 ],
 "metadata": {
  "kernelspec": {
   "display_name": "Python 2",
   "language": "python",
   "name": "python2"
  },
  "language_info": {
   "codemirror_mode": {
    "name": "ipython",
    "version": 2
   },
   "file_extension": ".py",
   "mimetype": "text/x-python",
   "name": "python",
   "nbconvert_exporter": "python",
   "pygments_lexer": "ipython2",
   "version": "2.7.12"
  }
 },
 "nbformat": 4,
 "nbformat_minor": 0
}
